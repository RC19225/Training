{
 "cells": [
  {
   "cell_type": "code",
   "execution_count": 201,
   "id": "b8aff2e4",
   "metadata": {},
   "outputs": [],
   "source": [
    "import ollama\n",
    "def get_completion_from_outsource(prompt, model=\"llama3.1:8b\", temperature=0):\n",
    "   \n",
    "    client = ollama.Client(\n",
    "    host='http://10.9.10.89:11434',\n",
    "    headers={'x-some-header': 'some-value'}\n",
    "    )\n",
    "    response = client.chat(model=model, messages=[\n",
    "    {\n",
    "        'role': 'user',\n",
    "        'content': prompt,\n",
    "    },\n",
    "    ])\n",
    "    return response[\"message\"][\"content\"]\n",
    "\n",
    "\n",
    "def get_completion(prompt, model=\"llama3.1:8b\",temperature=0.7):\n",
    "    try:\n",
    "        response = ollama.chat(model=model, messages=[{\"role\": \"user\", \"content\": prompt}], options={\n",
    "        'temperature': temperature\n",
    "    })\n",
    "        return response[\"message\"][\"content\"]\n",
    "    except Exception as e:\n",
    "        return str(e)\n",
    "    \n",
    "def get_completion_from_messages(messages, model=\"deepseek-r1:1.5b\", temperature=0.7):\n",
    "    try:\n",
    "        response = ollama.chat(model=model, messages=messages, options={\n",
    "        'temperature': temperature\n",
    "    })\n",
    "        # print(response)\n",
    "        return response[\"message\"][\"content\"]\n",
    "    except Exception as e:\n",
    "        return str(e)"
   ]
  },
  {
   "cell_type": "markdown",
   "id": "add1c607",
   "metadata": {},
   "source": []
  },
  {
   "cell_type": "code",
   "execution_count": 203,
   "id": "b17efa55",
   "metadata": {},
   "outputs": [
    {
     "ename": "ConnectTimeout",
     "evalue": "[WinError 10060] A connection attempt failed because the connected party did not properly respond after a period of time, or established connection failed because connected host has failed to respond",
     "output_type": "error",
     "traceback": [
      "\u001b[31m---------------------------------------------------------------------------\u001b[39m",
      "\u001b[31mConnectTimeout\u001b[39m                            Traceback (most recent call last)",
      "\u001b[36mFile \u001b[39m\u001b[32mc:\\Users\\rc19225\\AppData\\Local\\Programs\\Python\\Python313\\Lib\\site-packages\\httpx\\_transports\\default.py:101\u001b[39m, in \u001b[36mmap_httpcore_exceptions\u001b[39m\u001b[34m()\u001b[39m\n\u001b[32m    100\u001b[39m \u001b[38;5;28;01mtry\u001b[39;00m:\n\u001b[32m--> \u001b[39m\u001b[32m101\u001b[39m     \u001b[38;5;28;01myield\u001b[39;00m\n\u001b[32m    102\u001b[39m \u001b[38;5;28;01mexcept\u001b[39;00m \u001b[38;5;167;01mException\u001b[39;00m \u001b[38;5;28;01mas\u001b[39;00m exc:\n",
      "\u001b[36mFile \u001b[39m\u001b[32mc:\\Users\\rc19225\\AppData\\Local\\Programs\\Python\\Python313\\Lib\\site-packages\\httpx\\_transports\\default.py:250\u001b[39m, in \u001b[36mHTTPTransport.handle_request\u001b[39m\u001b[34m(self, request)\u001b[39m\n\u001b[32m    249\u001b[39m \u001b[38;5;28;01mwith\u001b[39;00m map_httpcore_exceptions():\n\u001b[32m--> \u001b[39m\u001b[32m250\u001b[39m     resp = \u001b[38;5;28;43mself\u001b[39;49m\u001b[43m.\u001b[49m\u001b[43m_pool\u001b[49m\u001b[43m.\u001b[49m\u001b[43mhandle_request\u001b[49m\u001b[43m(\u001b[49m\u001b[43mreq\u001b[49m\u001b[43m)\u001b[49m\n\u001b[32m    252\u001b[39m \u001b[38;5;28;01massert\u001b[39;00m \u001b[38;5;28misinstance\u001b[39m(resp.stream, typing.Iterable)\n",
      "\u001b[36mFile \u001b[39m\u001b[32mc:\\Users\\rc19225\\AppData\\Local\\Programs\\Python\\Python313\\Lib\\site-packages\\httpcore\\_sync\\connection_pool.py:256\u001b[39m, in \u001b[36mConnectionPool.handle_request\u001b[39m\u001b[34m(self, request)\u001b[39m\n\u001b[32m    255\u001b[39m     \u001b[38;5;28mself\u001b[39m._close_connections(closing)\n\u001b[32m--> \u001b[39m\u001b[32m256\u001b[39m     \u001b[38;5;28;01mraise\u001b[39;00m exc \u001b[38;5;28;01mfrom\u001b[39;00m\u001b[38;5;250m \u001b[39m\u001b[38;5;28;01mNone\u001b[39;00m\n\u001b[32m    258\u001b[39m \u001b[38;5;66;03m# Return the response. Note that in this case we still have to manage\u001b[39;00m\n\u001b[32m    259\u001b[39m \u001b[38;5;66;03m# the point at which the response is closed.\u001b[39;00m\n",
      "\u001b[36mFile \u001b[39m\u001b[32mc:\\Users\\rc19225\\AppData\\Local\\Programs\\Python\\Python313\\Lib\\site-packages\\httpcore\\_sync\\connection_pool.py:236\u001b[39m, in \u001b[36mConnectionPool.handle_request\u001b[39m\u001b[34m(self, request)\u001b[39m\n\u001b[32m    234\u001b[39m \u001b[38;5;28;01mtry\u001b[39;00m:\n\u001b[32m    235\u001b[39m     \u001b[38;5;66;03m# Send the request on the assigned connection.\u001b[39;00m\n\u001b[32m--> \u001b[39m\u001b[32m236\u001b[39m     response = \u001b[43mconnection\u001b[49m\u001b[43m.\u001b[49m\u001b[43mhandle_request\u001b[49m\u001b[43m(\u001b[49m\n\u001b[32m    237\u001b[39m \u001b[43m        \u001b[49m\u001b[43mpool_request\u001b[49m\u001b[43m.\u001b[49m\u001b[43mrequest\u001b[49m\n\u001b[32m    238\u001b[39m \u001b[43m    \u001b[49m\u001b[43m)\u001b[49m\n\u001b[32m    239\u001b[39m \u001b[38;5;28;01mexcept\u001b[39;00m ConnectionNotAvailable:\n\u001b[32m    240\u001b[39m     \u001b[38;5;66;03m# In some cases a connection may initially be available to\u001b[39;00m\n\u001b[32m    241\u001b[39m     \u001b[38;5;66;03m# handle a request, but then become unavailable.\u001b[39;00m\n\u001b[32m    242\u001b[39m     \u001b[38;5;66;03m#\u001b[39;00m\n\u001b[32m    243\u001b[39m     \u001b[38;5;66;03m# In this case we clear the connection and try again.\u001b[39;00m\n",
      "\u001b[36mFile \u001b[39m\u001b[32mc:\\Users\\rc19225\\AppData\\Local\\Programs\\Python\\Python313\\Lib\\site-packages\\httpcore\\_sync\\connection.py:101\u001b[39m, in \u001b[36mHTTPConnection.handle_request\u001b[39m\u001b[34m(self, request)\u001b[39m\n\u001b[32m    100\u001b[39m     \u001b[38;5;28mself\u001b[39m._connect_failed = \u001b[38;5;28;01mTrue\u001b[39;00m\n\u001b[32m--> \u001b[39m\u001b[32m101\u001b[39m     \u001b[38;5;28;01mraise\u001b[39;00m exc\n\u001b[32m    103\u001b[39m \u001b[38;5;28;01mreturn\u001b[39;00m \u001b[38;5;28mself\u001b[39m._connection.handle_request(request)\n",
      "\u001b[36mFile \u001b[39m\u001b[32mc:\\Users\\rc19225\\AppData\\Local\\Programs\\Python\\Python313\\Lib\\site-packages\\httpcore\\_sync\\connection.py:78\u001b[39m, in \u001b[36mHTTPConnection.handle_request\u001b[39m\u001b[34m(self, request)\u001b[39m\n\u001b[32m     77\u001b[39m \u001b[38;5;28;01mif\u001b[39;00m \u001b[38;5;28mself\u001b[39m._connection \u001b[38;5;129;01mis\u001b[39;00m \u001b[38;5;28;01mNone\u001b[39;00m:\n\u001b[32m---> \u001b[39m\u001b[32m78\u001b[39m     stream = \u001b[38;5;28;43mself\u001b[39;49m\u001b[43m.\u001b[49m\u001b[43m_connect\u001b[49m\u001b[43m(\u001b[49m\u001b[43mrequest\u001b[49m\u001b[43m)\u001b[49m\n\u001b[32m     80\u001b[39m     ssl_object = stream.get_extra_info(\u001b[33m\"\u001b[39m\u001b[33mssl_object\u001b[39m\u001b[33m\"\u001b[39m)\n",
      "\u001b[36mFile \u001b[39m\u001b[32mc:\\Users\\rc19225\\AppData\\Local\\Programs\\Python\\Python313\\Lib\\site-packages\\httpcore\\_sync\\connection.py:124\u001b[39m, in \u001b[36mHTTPConnection._connect\u001b[39m\u001b[34m(self, request)\u001b[39m\n\u001b[32m    123\u001b[39m \u001b[38;5;28;01mwith\u001b[39;00m Trace(\u001b[33m\"\u001b[39m\u001b[33mconnect_tcp\u001b[39m\u001b[33m\"\u001b[39m, logger, request, kwargs) \u001b[38;5;28;01mas\u001b[39;00m trace:\n\u001b[32m--> \u001b[39m\u001b[32m124\u001b[39m     stream = \u001b[38;5;28;43mself\u001b[39;49m\u001b[43m.\u001b[49m\u001b[43m_network_backend\u001b[49m\u001b[43m.\u001b[49m\u001b[43mconnect_tcp\u001b[49m\u001b[43m(\u001b[49m\u001b[43m*\u001b[49m\u001b[43m*\u001b[49m\u001b[43mkwargs\u001b[49m\u001b[43m)\u001b[49m\n\u001b[32m    125\u001b[39m     trace.return_value = stream\n",
      "\u001b[36mFile \u001b[39m\u001b[32mc:\\Users\\rc19225\\AppData\\Local\\Programs\\Python\\Python313\\Lib\\site-packages\\httpcore\\_backends\\sync.py:207\u001b[39m, in \u001b[36mSyncBackend.connect_tcp\u001b[39m\u001b[34m(self, host, port, timeout, local_address, socket_options)\u001b[39m\n\u001b[32m    202\u001b[39m exc_map: ExceptionMapping = {\n\u001b[32m    203\u001b[39m     socket.timeout: ConnectTimeout,\n\u001b[32m    204\u001b[39m     \u001b[38;5;167;01mOSError\u001b[39;00m: ConnectError,\n\u001b[32m    205\u001b[39m }\n\u001b[32m--> \u001b[39m\u001b[32m207\u001b[39m \u001b[38;5;28;01mwith\u001b[39;00m map_exceptions(exc_map):\n\u001b[32m    208\u001b[39m     sock = socket.create_connection(\n\u001b[32m    209\u001b[39m         address,\n\u001b[32m    210\u001b[39m         timeout,\n\u001b[32m    211\u001b[39m         source_address=source_address,\n\u001b[32m    212\u001b[39m     )\n",
      "\u001b[36mFile \u001b[39m\u001b[32mc:\\Users\\rc19225\\AppData\\Local\\Programs\\Python\\Python313\\Lib\\contextlib.py:162\u001b[39m, in \u001b[36m_GeneratorContextManager.__exit__\u001b[39m\u001b[34m(self, typ, value, traceback)\u001b[39m\n\u001b[32m    161\u001b[39m \u001b[38;5;28;01mtry\u001b[39;00m:\n\u001b[32m--> \u001b[39m\u001b[32m162\u001b[39m     \u001b[38;5;28;43mself\u001b[39;49m\u001b[43m.\u001b[49m\u001b[43mgen\u001b[49m\u001b[43m.\u001b[49m\u001b[43mthrow\u001b[49m\u001b[43m(\u001b[49m\u001b[43mvalue\u001b[49m\u001b[43m)\u001b[49m\n\u001b[32m    163\u001b[39m \u001b[38;5;28;01mexcept\u001b[39;00m \u001b[38;5;167;01mStopIteration\u001b[39;00m \u001b[38;5;28;01mas\u001b[39;00m exc:\n\u001b[32m    164\u001b[39m     \u001b[38;5;66;03m# Suppress StopIteration *unless* it's the same exception that\u001b[39;00m\n\u001b[32m    165\u001b[39m     \u001b[38;5;66;03m# was passed to throw().  This prevents a StopIteration\u001b[39;00m\n\u001b[32m    166\u001b[39m     \u001b[38;5;66;03m# raised inside the \"with\" statement from being suppressed.\u001b[39;00m\n",
      "\u001b[36mFile \u001b[39m\u001b[32mc:\\Users\\rc19225\\AppData\\Local\\Programs\\Python\\Python313\\Lib\\site-packages\\httpcore\\_exceptions.py:14\u001b[39m, in \u001b[36mmap_exceptions\u001b[39m\u001b[34m(map)\u001b[39m\n\u001b[32m     13\u001b[39m     \u001b[38;5;28;01mif\u001b[39;00m \u001b[38;5;28misinstance\u001b[39m(exc, from_exc):\n\u001b[32m---> \u001b[39m\u001b[32m14\u001b[39m         \u001b[38;5;28;01mraise\u001b[39;00m to_exc(exc) \u001b[38;5;28;01mfrom\u001b[39;00m\u001b[38;5;250m \u001b[39m\u001b[34;01mexc\u001b[39;00m\n\u001b[32m     15\u001b[39m \u001b[38;5;28;01mraise\u001b[39;00m\n",
      "\u001b[31mConnectTimeout\u001b[39m: [WinError 10060] A connection attempt failed because the connected party did not properly respond after a period of time, or established connection failed because connected host has failed to respond",
      "\nThe above exception was the direct cause of the following exception:\n",
      "\u001b[31mConnectTimeout\u001b[39m                            Traceback (most recent call last)",
      "\u001b[36mCell\u001b[39m\u001b[36m \u001b[39m\u001b[32mIn[203]\u001b[39m\u001b[32m, line 1\u001b[39m\n\u001b[32m----> \u001b[39m\u001b[32m1\u001b[39m \u001b[43mget_completion_from_outsource\u001b[49m\u001b[43m(\u001b[49m\u001b[33;43m\"\u001b[39;49m\u001b[33;43mhello!!\u001b[39;49m\u001b[33;43m\"\u001b[39;49m\u001b[43m)\u001b[49m\n",
      "\u001b[36mCell\u001b[39m\u001b[36m \u001b[39m\u001b[32mIn[201]\u001b[39m\u001b[32m, line 8\u001b[39m, in \u001b[36mget_completion_from_outsource\u001b[39m\u001b[34m(prompt, model, temperature)\u001b[39m\n\u001b[32m      2\u001b[39m \u001b[38;5;28;01mdef\u001b[39;00m\u001b[38;5;250m \u001b[39m\u001b[34mget_completion_from_outsource\u001b[39m(prompt, model=\u001b[33m\"\u001b[39m\u001b[33mllama3.1:8b\u001b[39m\u001b[33m\"\u001b[39m, temperature=\u001b[32m0\u001b[39m):\n\u001b[32m      4\u001b[39m     client = ollama.Client(\n\u001b[32m      5\u001b[39m     host=\u001b[33m'\u001b[39m\u001b[33mhttp://10.9.10.89:11434\u001b[39m\u001b[33m'\u001b[39m,\n\u001b[32m      6\u001b[39m     headers={\u001b[33m'\u001b[39m\u001b[33mx-some-header\u001b[39m\u001b[33m'\u001b[39m: \u001b[33m'\u001b[39m\u001b[33msome-value\u001b[39m\u001b[33m'\u001b[39m}\n\u001b[32m      7\u001b[39m     )\n\u001b[32m----> \u001b[39m\u001b[32m8\u001b[39m     response = \u001b[43mclient\u001b[49m\u001b[43m.\u001b[49m\u001b[43mchat\u001b[49m\u001b[43m(\u001b[49m\u001b[43mmodel\u001b[49m\u001b[43m=\u001b[49m\u001b[43mmodel\u001b[49m\u001b[43m,\u001b[49m\u001b[43m \u001b[49m\u001b[43mmessages\u001b[49m\u001b[43m=\u001b[49m\u001b[43m[\u001b[49m\n\u001b[32m      9\u001b[39m \u001b[43m    \u001b[49m\u001b[43m{\u001b[49m\n\u001b[32m     10\u001b[39m \u001b[43m        \u001b[49m\u001b[33;43m'\u001b[39;49m\u001b[33;43mrole\u001b[39;49m\u001b[33;43m'\u001b[39;49m\u001b[43m:\u001b[49m\u001b[43m \u001b[49m\u001b[33;43m'\u001b[39;49m\u001b[33;43muser\u001b[39;49m\u001b[33;43m'\u001b[39;49m\u001b[43m,\u001b[49m\n\u001b[32m     11\u001b[39m \u001b[43m        \u001b[49m\u001b[33;43m'\u001b[39;49m\u001b[33;43mcontent\u001b[39;49m\u001b[33;43m'\u001b[39;49m\u001b[43m:\u001b[49m\u001b[43m \u001b[49m\u001b[43mprompt\u001b[49m\u001b[43m,\u001b[49m\n\u001b[32m     12\u001b[39m \u001b[43m    \u001b[49m\u001b[43m}\u001b[49m\u001b[43m,\u001b[49m\n\u001b[32m     13\u001b[39m \u001b[43m    \u001b[49m\u001b[43m]\u001b[49m\u001b[43m)\u001b[49m\n\u001b[32m     14\u001b[39m     \u001b[38;5;28;01mreturn\u001b[39;00m response[\u001b[33m\"\u001b[39m\u001b[33mmessage\u001b[39m\u001b[33m\"\u001b[39m][\u001b[33m\"\u001b[39m\u001b[33mcontent\u001b[39m\u001b[33m\"\u001b[39m]\n",
      "\u001b[36mFile \u001b[39m\u001b[32mc:\\Users\\rc19225\\AppData\\Local\\Programs\\Python\\Python313\\Lib\\site-packages\\ollama\\_client.py:342\u001b[39m, in \u001b[36mClient.chat\u001b[39m\u001b[34m(self, model, messages, tools, stream, think, format, options, keep_alive)\u001b[39m\n\u001b[32m    297\u001b[39m \u001b[38;5;28;01mdef\u001b[39;00m\u001b[38;5;250m \u001b[39m\u001b[34mchat\u001b[39m(\n\u001b[32m    298\u001b[39m   \u001b[38;5;28mself\u001b[39m,\n\u001b[32m    299\u001b[39m   model: \u001b[38;5;28mstr\u001b[39m = \u001b[33m'\u001b[39m\u001b[33m'\u001b[39m,\n\u001b[32m   (...)\u001b[39m\u001b[32m    307\u001b[39m   keep_alive: Optional[Union[\u001b[38;5;28mfloat\u001b[39m, \u001b[38;5;28mstr\u001b[39m]] = \u001b[38;5;28;01mNone\u001b[39;00m,\n\u001b[32m    308\u001b[39m ) -> Union[ChatResponse, Iterator[ChatResponse]]:\n\u001b[32m    309\u001b[39m \u001b[38;5;250m  \u001b[39m\u001b[33;03m\"\"\"\u001b[39;00m\n\u001b[32m    310\u001b[39m \u001b[33;03m  Create a chat response using the requested model.\u001b[39;00m\n\u001b[32m    311\u001b[39m \n\u001b[32m   (...)\u001b[39m\u001b[32m    340\u001b[39m \u001b[33;03m  Returns `ChatResponse` if `stream` is `False`, otherwise returns a `ChatResponse` generator.\u001b[39;00m\n\u001b[32m    341\u001b[39m \u001b[33;03m  \"\"\"\u001b[39;00m\n\u001b[32m--> \u001b[39m\u001b[32m342\u001b[39m   \u001b[38;5;28;01mreturn\u001b[39;00m \u001b[38;5;28;43mself\u001b[39;49m\u001b[43m.\u001b[49m\u001b[43m_request\u001b[49m\u001b[43m(\u001b[49m\n\u001b[32m    343\u001b[39m \u001b[43m    \u001b[49m\u001b[43mChatResponse\u001b[49m\u001b[43m,\u001b[49m\n\u001b[32m    344\u001b[39m \u001b[43m    \u001b[49m\u001b[33;43m'\u001b[39;49m\u001b[33;43mPOST\u001b[39;49m\u001b[33;43m'\u001b[39;49m\u001b[43m,\u001b[49m\n\u001b[32m    345\u001b[39m \u001b[43m    \u001b[49m\u001b[33;43m'\u001b[39;49m\u001b[33;43m/api/chat\u001b[39;49m\u001b[33;43m'\u001b[39;49m\u001b[43m,\u001b[49m\n\u001b[32m    346\u001b[39m \u001b[43m    \u001b[49m\u001b[43mjson\u001b[49m\u001b[43m=\u001b[49m\u001b[43mChatRequest\u001b[49m\u001b[43m(\u001b[49m\n\u001b[32m    347\u001b[39m \u001b[43m      \u001b[49m\u001b[43mmodel\u001b[49m\u001b[43m=\u001b[49m\u001b[43mmodel\u001b[49m\u001b[43m,\u001b[49m\n\u001b[32m    348\u001b[39m \u001b[43m      \u001b[49m\u001b[43mmessages\u001b[49m\u001b[43m=\u001b[49m\u001b[38;5;28;43mlist\u001b[39;49m\u001b[43m(\u001b[49m\u001b[43m_copy_messages\u001b[49m\u001b[43m(\u001b[49m\u001b[43mmessages\u001b[49m\u001b[43m)\u001b[49m\u001b[43m)\u001b[49m\u001b[43m,\u001b[49m\n\u001b[32m    349\u001b[39m \u001b[43m      \u001b[49m\u001b[43mtools\u001b[49m\u001b[43m=\u001b[49m\u001b[38;5;28;43mlist\u001b[39;49m\u001b[43m(\u001b[49m\u001b[43m_copy_tools\u001b[49m\u001b[43m(\u001b[49m\u001b[43mtools\u001b[49m\u001b[43m)\u001b[49m\u001b[43m)\u001b[49m\u001b[43m,\u001b[49m\n\u001b[32m    350\u001b[39m \u001b[43m      \u001b[49m\u001b[43mstream\u001b[49m\u001b[43m=\u001b[49m\u001b[43mstream\u001b[49m\u001b[43m,\u001b[49m\n\u001b[32m    351\u001b[39m \u001b[43m      \u001b[49m\u001b[43mthink\u001b[49m\u001b[43m=\u001b[49m\u001b[43mthink\u001b[49m\u001b[43m,\u001b[49m\n\u001b[32m    352\u001b[39m \u001b[43m      \u001b[49m\u001b[38;5;28;43mformat\u001b[39;49m\u001b[43m=\u001b[49m\u001b[38;5;28;43mformat\u001b[39;49m\u001b[43m,\u001b[49m\n\u001b[32m    353\u001b[39m \u001b[43m      \u001b[49m\u001b[43moptions\u001b[49m\u001b[43m=\u001b[49m\u001b[43moptions\u001b[49m\u001b[43m,\u001b[49m\n\u001b[32m    354\u001b[39m \u001b[43m      \u001b[49m\u001b[43mkeep_alive\u001b[49m\u001b[43m=\u001b[49m\u001b[43mkeep_alive\u001b[49m\u001b[43m,\u001b[49m\n\u001b[32m    355\u001b[39m \u001b[43m    \u001b[49m\u001b[43m)\u001b[49m\u001b[43m.\u001b[49m\u001b[43mmodel_dump\u001b[49m\u001b[43m(\u001b[49m\u001b[43mexclude_none\u001b[49m\u001b[43m=\u001b[49m\u001b[38;5;28;43;01mTrue\u001b[39;49;00m\u001b[43m)\u001b[49m\u001b[43m,\u001b[49m\n\u001b[32m    356\u001b[39m \u001b[43m    \u001b[49m\u001b[43mstream\u001b[49m\u001b[43m=\u001b[49m\u001b[43mstream\u001b[49m\u001b[43m,\u001b[49m\n\u001b[32m    357\u001b[39m \u001b[43m  \u001b[49m\u001b[43m)\u001b[49m\n",
      "\u001b[36mFile \u001b[39m\u001b[32mc:\\Users\\rc19225\\AppData\\Local\\Programs\\Python\\Python313\\Lib\\site-packages\\ollama\\_client.py:180\u001b[39m, in \u001b[36mClient._request\u001b[39m\u001b[34m(self, cls, stream, *args, **kwargs)\u001b[39m\n\u001b[32m    176\u001b[39m         \u001b[38;5;28;01myield\u001b[39;00m \u001b[38;5;28mcls\u001b[39m(**part)\n\u001b[32m    178\u001b[39m   \u001b[38;5;28;01mreturn\u001b[39;00m inner()\n\u001b[32m--> \u001b[39m\u001b[32m180\u001b[39m \u001b[38;5;28;01mreturn\u001b[39;00m \u001b[38;5;28mcls\u001b[39m(**\u001b[38;5;28;43mself\u001b[39;49m\u001b[43m.\u001b[49m\u001b[43m_request_raw\u001b[49m\u001b[43m(\u001b[49m\u001b[43m*\u001b[49m\u001b[43margs\u001b[49m\u001b[43m,\u001b[49m\u001b[43m \u001b[49m\u001b[43m*\u001b[49m\u001b[43m*\u001b[49m\u001b[43mkwargs\u001b[49m\u001b[43m)\u001b[49m.json())\n",
      "\u001b[36mFile \u001b[39m\u001b[32mc:\\Users\\rc19225\\AppData\\Local\\Programs\\Python\\Python313\\Lib\\site-packages\\ollama\\_client.py:120\u001b[39m, in \u001b[36mClient._request_raw\u001b[39m\u001b[34m(self, *args, **kwargs)\u001b[39m\n\u001b[32m    118\u001b[39m \u001b[38;5;28;01mdef\u001b[39;00m\u001b[38;5;250m \u001b[39m\u001b[34m_request_raw\u001b[39m(\u001b[38;5;28mself\u001b[39m, *args, **kwargs):\n\u001b[32m    119\u001b[39m   \u001b[38;5;28;01mtry\u001b[39;00m:\n\u001b[32m--> \u001b[39m\u001b[32m120\u001b[39m     r = \u001b[38;5;28;43mself\u001b[39;49m\u001b[43m.\u001b[49m\u001b[43m_client\u001b[49m\u001b[43m.\u001b[49m\u001b[43mrequest\u001b[49m\u001b[43m(\u001b[49m\u001b[43m*\u001b[49m\u001b[43margs\u001b[49m\u001b[43m,\u001b[49m\u001b[43m \u001b[49m\u001b[43m*\u001b[49m\u001b[43m*\u001b[49m\u001b[43mkwargs\u001b[49m\u001b[43m)\u001b[49m\n\u001b[32m    121\u001b[39m     r.raise_for_status()\n\u001b[32m    122\u001b[39m     \u001b[38;5;28;01mreturn\u001b[39;00m r\n",
      "\u001b[36mFile \u001b[39m\u001b[32mc:\\Users\\rc19225\\AppData\\Local\\Programs\\Python\\Python313\\Lib\\site-packages\\httpx\\_client.py:825\u001b[39m, in \u001b[36mClient.request\u001b[39m\u001b[34m(self, method, url, content, data, files, json, params, headers, cookies, auth, follow_redirects, timeout, extensions)\u001b[39m\n\u001b[32m    810\u001b[39m     warnings.warn(message, \u001b[38;5;167;01mDeprecationWarning\u001b[39;00m, stacklevel=\u001b[32m2\u001b[39m)\n\u001b[32m    812\u001b[39m request = \u001b[38;5;28mself\u001b[39m.build_request(\n\u001b[32m    813\u001b[39m     method=method,\n\u001b[32m    814\u001b[39m     url=url,\n\u001b[32m   (...)\u001b[39m\u001b[32m    823\u001b[39m     extensions=extensions,\n\u001b[32m    824\u001b[39m )\n\u001b[32m--> \u001b[39m\u001b[32m825\u001b[39m \u001b[38;5;28;01mreturn\u001b[39;00m \u001b[38;5;28;43mself\u001b[39;49m\u001b[43m.\u001b[49m\u001b[43msend\u001b[49m\u001b[43m(\u001b[49m\u001b[43mrequest\u001b[49m\u001b[43m,\u001b[49m\u001b[43m \u001b[49m\u001b[43mauth\u001b[49m\u001b[43m=\u001b[49m\u001b[43mauth\u001b[49m\u001b[43m,\u001b[49m\u001b[43m \u001b[49m\u001b[43mfollow_redirects\u001b[49m\u001b[43m=\u001b[49m\u001b[43mfollow_redirects\u001b[49m\u001b[43m)\u001b[49m\n",
      "\u001b[36mFile \u001b[39m\u001b[32mc:\\Users\\rc19225\\AppData\\Local\\Programs\\Python\\Python313\\Lib\\site-packages\\httpx\\_client.py:914\u001b[39m, in \u001b[36mClient.send\u001b[39m\u001b[34m(self, request, stream, auth, follow_redirects)\u001b[39m\n\u001b[32m    910\u001b[39m \u001b[38;5;28mself\u001b[39m._set_timeout(request)\n\u001b[32m    912\u001b[39m auth = \u001b[38;5;28mself\u001b[39m._build_request_auth(request, auth)\n\u001b[32m--> \u001b[39m\u001b[32m914\u001b[39m response = \u001b[38;5;28;43mself\u001b[39;49m\u001b[43m.\u001b[49m\u001b[43m_send_handling_auth\u001b[49m\u001b[43m(\u001b[49m\n\u001b[32m    915\u001b[39m \u001b[43m    \u001b[49m\u001b[43mrequest\u001b[49m\u001b[43m,\u001b[49m\n\u001b[32m    916\u001b[39m \u001b[43m    \u001b[49m\u001b[43mauth\u001b[49m\u001b[43m=\u001b[49m\u001b[43mauth\u001b[49m\u001b[43m,\u001b[49m\n\u001b[32m    917\u001b[39m \u001b[43m    \u001b[49m\u001b[43mfollow_redirects\u001b[49m\u001b[43m=\u001b[49m\u001b[43mfollow_redirects\u001b[49m\u001b[43m,\u001b[49m\n\u001b[32m    918\u001b[39m \u001b[43m    \u001b[49m\u001b[43mhistory\u001b[49m\u001b[43m=\u001b[49m\u001b[43m[\u001b[49m\u001b[43m]\u001b[49m\u001b[43m,\u001b[49m\n\u001b[32m    919\u001b[39m \u001b[43m\u001b[49m\u001b[43m)\u001b[49m\n\u001b[32m    920\u001b[39m \u001b[38;5;28;01mtry\u001b[39;00m:\n\u001b[32m    921\u001b[39m     \u001b[38;5;28;01mif\u001b[39;00m \u001b[38;5;129;01mnot\u001b[39;00m stream:\n",
      "\u001b[36mFile \u001b[39m\u001b[32mc:\\Users\\rc19225\\AppData\\Local\\Programs\\Python\\Python313\\Lib\\site-packages\\httpx\\_client.py:942\u001b[39m, in \u001b[36mClient._send_handling_auth\u001b[39m\u001b[34m(self, request, auth, follow_redirects, history)\u001b[39m\n\u001b[32m    939\u001b[39m request = \u001b[38;5;28mnext\u001b[39m(auth_flow)\n\u001b[32m    941\u001b[39m \u001b[38;5;28;01mwhile\u001b[39;00m \u001b[38;5;28;01mTrue\u001b[39;00m:\n\u001b[32m--> \u001b[39m\u001b[32m942\u001b[39m     response = \u001b[38;5;28;43mself\u001b[39;49m\u001b[43m.\u001b[49m\u001b[43m_send_handling_redirects\u001b[49m\u001b[43m(\u001b[49m\n\u001b[32m    943\u001b[39m \u001b[43m        \u001b[49m\u001b[43mrequest\u001b[49m\u001b[43m,\u001b[49m\n\u001b[32m    944\u001b[39m \u001b[43m        \u001b[49m\u001b[43mfollow_redirects\u001b[49m\u001b[43m=\u001b[49m\u001b[43mfollow_redirects\u001b[49m\u001b[43m,\u001b[49m\n\u001b[32m    945\u001b[39m \u001b[43m        \u001b[49m\u001b[43mhistory\u001b[49m\u001b[43m=\u001b[49m\u001b[43mhistory\u001b[49m\u001b[43m,\u001b[49m\n\u001b[32m    946\u001b[39m \u001b[43m    \u001b[49m\u001b[43m)\u001b[49m\n\u001b[32m    947\u001b[39m     \u001b[38;5;28;01mtry\u001b[39;00m:\n\u001b[32m    948\u001b[39m         \u001b[38;5;28;01mtry\u001b[39;00m:\n",
      "\u001b[36mFile \u001b[39m\u001b[32mc:\\Users\\rc19225\\AppData\\Local\\Programs\\Python\\Python313\\Lib\\site-packages\\httpx\\_client.py:979\u001b[39m, in \u001b[36mClient._send_handling_redirects\u001b[39m\u001b[34m(self, request, follow_redirects, history)\u001b[39m\n\u001b[32m    976\u001b[39m \u001b[38;5;28;01mfor\u001b[39;00m hook \u001b[38;5;129;01min\u001b[39;00m \u001b[38;5;28mself\u001b[39m._event_hooks[\u001b[33m\"\u001b[39m\u001b[33mrequest\u001b[39m\u001b[33m\"\u001b[39m]:\n\u001b[32m    977\u001b[39m     hook(request)\n\u001b[32m--> \u001b[39m\u001b[32m979\u001b[39m response = \u001b[38;5;28;43mself\u001b[39;49m\u001b[43m.\u001b[49m\u001b[43m_send_single_request\u001b[49m\u001b[43m(\u001b[49m\u001b[43mrequest\u001b[49m\u001b[43m)\u001b[49m\n\u001b[32m    980\u001b[39m \u001b[38;5;28;01mtry\u001b[39;00m:\n\u001b[32m    981\u001b[39m     \u001b[38;5;28;01mfor\u001b[39;00m hook \u001b[38;5;129;01min\u001b[39;00m \u001b[38;5;28mself\u001b[39m._event_hooks[\u001b[33m\"\u001b[39m\u001b[33mresponse\u001b[39m\u001b[33m\"\u001b[39m]:\n",
      "\u001b[36mFile \u001b[39m\u001b[32mc:\\Users\\rc19225\\AppData\\Local\\Programs\\Python\\Python313\\Lib\\site-packages\\httpx\\_client.py:1014\u001b[39m, in \u001b[36mClient._send_single_request\u001b[39m\u001b[34m(self, request)\u001b[39m\n\u001b[32m   1009\u001b[39m     \u001b[38;5;28;01mraise\u001b[39;00m \u001b[38;5;167;01mRuntimeError\u001b[39;00m(\n\u001b[32m   1010\u001b[39m         \u001b[33m\"\u001b[39m\u001b[33mAttempted to send an async request with a sync Client instance.\u001b[39m\u001b[33m\"\u001b[39m\n\u001b[32m   1011\u001b[39m     )\n\u001b[32m   1013\u001b[39m \u001b[38;5;28;01mwith\u001b[39;00m request_context(request=request):\n\u001b[32m-> \u001b[39m\u001b[32m1014\u001b[39m     response = \u001b[43mtransport\u001b[49m\u001b[43m.\u001b[49m\u001b[43mhandle_request\u001b[49m\u001b[43m(\u001b[49m\u001b[43mrequest\u001b[49m\u001b[43m)\u001b[49m\n\u001b[32m   1016\u001b[39m \u001b[38;5;28;01massert\u001b[39;00m \u001b[38;5;28misinstance\u001b[39m(response.stream, SyncByteStream)\n\u001b[32m   1018\u001b[39m response.request = request\n",
      "\u001b[36mFile \u001b[39m\u001b[32mc:\\Users\\rc19225\\AppData\\Local\\Programs\\Python\\Python313\\Lib\\site-packages\\httpx\\_transports\\default.py:249\u001b[39m, in \u001b[36mHTTPTransport.handle_request\u001b[39m\u001b[34m(self, request)\u001b[39m\n\u001b[32m    235\u001b[39m \u001b[38;5;28;01mimport\u001b[39;00m\u001b[38;5;250m \u001b[39m\u001b[34;01mhttpcore\u001b[39;00m\n\u001b[32m    237\u001b[39m req = httpcore.Request(\n\u001b[32m    238\u001b[39m     method=request.method,\n\u001b[32m    239\u001b[39m     url=httpcore.URL(\n\u001b[32m   (...)\u001b[39m\u001b[32m    247\u001b[39m     extensions=request.extensions,\n\u001b[32m    248\u001b[39m )\n\u001b[32m--> \u001b[39m\u001b[32m249\u001b[39m \u001b[38;5;28;01mwith\u001b[39;00m map_httpcore_exceptions():\n\u001b[32m    250\u001b[39m     resp = \u001b[38;5;28mself\u001b[39m._pool.handle_request(req)\n\u001b[32m    252\u001b[39m \u001b[38;5;28;01massert\u001b[39;00m \u001b[38;5;28misinstance\u001b[39m(resp.stream, typing.Iterable)\n",
      "\u001b[36mFile \u001b[39m\u001b[32mc:\\Users\\rc19225\\AppData\\Local\\Programs\\Python\\Python313\\Lib\\contextlib.py:162\u001b[39m, in \u001b[36m_GeneratorContextManager.__exit__\u001b[39m\u001b[34m(self, typ, value, traceback)\u001b[39m\n\u001b[32m    160\u001b[39m     value = typ()\n\u001b[32m    161\u001b[39m \u001b[38;5;28;01mtry\u001b[39;00m:\n\u001b[32m--> \u001b[39m\u001b[32m162\u001b[39m     \u001b[38;5;28;43mself\u001b[39;49m\u001b[43m.\u001b[49m\u001b[43mgen\u001b[49m\u001b[43m.\u001b[49m\u001b[43mthrow\u001b[49m\u001b[43m(\u001b[49m\u001b[43mvalue\u001b[49m\u001b[43m)\u001b[49m\n\u001b[32m    163\u001b[39m \u001b[38;5;28;01mexcept\u001b[39;00m \u001b[38;5;167;01mStopIteration\u001b[39;00m \u001b[38;5;28;01mas\u001b[39;00m exc:\n\u001b[32m    164\u001b[39m     \u001b[38;5;66;03m# Suppress StopIteration *unless* it's the same exception that\u001b[39;00m\n\u001b[32m    165\u001b[39m     \u001b[38;5;66;03m# was passed to throw().  This prevents a StopIteration\u001b[39;00m\n\u001b[32m    166\u001b[39m     \u001b[38;5;66;03m# raised inside the \"with\" statement from being suppressed.\u001b[39;00m\n\u001b[32m    167\u001b[39m     \u001b[38;5;28;01mreturn\u001b[39;00m exc \u001b[38;5;129;01mis\u001b[39;00m \u001b[38;5;129;01mnot\u001b[39;00m value\n",
      "\u001b[36mFile \u001b[39m\u001b[32mc:\\Users\\rc19225\\AppData\\Local\\Programs\\Python\\Python313\\Lib\\site-packages\\httpx\\_transports\\default.py:118\u001b[39m, in \u001b[36mmap_httpcore_exceptions\u001b[39m\u001b[34m()\u001b[39m\n\u001b[32m    115\u001b[39m     \u001b[38;5;28;01mraise\u001b[39;00m\n\u001b[32m    117\u001b[39m message = \u001b[38;5;28mstr\u001b[39m(exc)\n\u001b[32m--> \u001b[39m\u001b[32m118\u001b[39m \u001b[38;5;28;01mraise\u001b[39;00m mapped_exc(message) \u001b[38;5;28;01mfrom\u001b[39;00m\u001b[38;5;250m \u001b[39m\u001b[34;01mexc\u001b[39;00m\n",
      "\u001b[31mConnectTimeout\u001b[39m: [WinError 10060] A connection attempt failed because the connected party did not properly respond after a period of time, or established connection failed because connected host has failed to respond"
     ]
    }
   ],
   "source": [
    "get_completion_from_outsource(\"hello!!\")"
   ]
  },
  {
   "cell_type": "code",
   "execution_count": 2,
   "id": "cf4fa7c4",
   "metadata": {},
   "outputs": [
    {
     "name": "stderr",
     "output_type": "stream",
     "text": [
      "<>:13: SyntaxWarning: invalid escape sequence '\\ '\n",
      "<>:18: SyntaxWarning: invalid escape sequence '\\ '\n",
      "<>:13: SyntaxWarning: invalid escape sequence '\\ '\n",
      "<>:18: SyntaxWarning: invalid escape sequence '\\ '\n",
      "C:\\Users\\rc19225\\AppData\\Local\\Temp\\ipykernel_9144\\2496532566.py:13: SyntaxWarning: invalid escape sequence '\\ '\n",
      "  prompt = f\"\"\"\n",
      "C:\\Users\\rc19225\\AppData\\Local\\Temp\\ipykernel_9144\\2496532566.py:18: SyntaxWarning: invalid escape sequence '\\ '\n",
      "  response = get_completion(prompt)\n"
     ]
    },
    {
     "name": "stdout",
     "output_type": "stream",
     "text": [
      " To achieve the desired output from a model, provide clear, specific instructions that offer adequate context; this reduces the likelihood of irrelevant or incorrect responses, regardless of prompt length.\n"
     ]
    }
   ],
   "source": [
    "text = f\"\"\"\n",
    "You should express what you want a model to do by \\ \n",
    "providing instructions that are as clear and \\ \n",
    "specific as you can possibly make them. \\ \n",
    "This will guide the model towards the desired output, \\ \n",
    "and reduce the chances of receiving irrelevant \\ \n",
    "or incorrect responses. Don't confuse writing a \\ \n",
    "clear prompt with writing a short prompt. \\ \n",
    "In many cases, longer prompts provide more clarity \\ \n",
    "and context for the model, which can lead to \\ \n",
    "more detailed and relevant outputs.\n",
    "\"\"\"\n",
    "prompt = f\"\"\"\n",
    "Summarize the text delimited by triple backticks \\ \n",
    "into a single sentence.\n",
    "```{text}```\n",
    "\"\"\"\n",
    "response = get_completion(prompt)\n",
    "print(response)"
   ]
  },
  {
   "cell_type": "code",
   "execution_count": 3,
   "id": "817f1da1",
   "metadata": {},
   "outputs": [
    {
     "name": "stderr",
     "output_type": "stream",
     "text": [
      "<>:7: SyntaxWarning: invalid escape sequence '\\ '\n",
      "<>:7: SyntaxWarning: invalid escape sequence '\\ '\n",
      "C:\\Users\\rc19225\\AppData\\Local\\Temp\\ipykernel_9144\\1713482535.py:7: SyntaxWarning: invalid escape sequence '\\ '\n",
      "  response = get_completion(prompt)\n"
     ]
    },
    {
     "name": "stdout",
     "output_type": "stream",
     "text": [
      " [\n",
      "  {\n",
      "    \"book_id\": \"1\",\n",
      "    \"title\": \"Chronicles of the Celestial Garden\",\n",
      "    \"author\": \"Aria Seraphina\",\n",
      "    \"genre\": \"Fantasy\"\n",
      "  },\n",
      "  {\n",
      "    \"book_id\": \"2\",\n",
      "    \"title\": \"Echoes from the Quantum Realm\",\n",
      "    \"author\": \"Zephyrus Quantum\",\n",
      "    \"genre\": \"Science Fiction\"\n",
      "  },\n",
      "  {\n",
      "    \"book_id\": \"3\",\n",
      "    \"title\": \"Whispers of the Ethereal Artists\",\n",
      "    \"author\": \"Inara Spectra\",\n",
      "    \"genre\": \"Mystery & Thriller\"\n",
      "  }\n",
      "]\n"
     ]
    }
   ],
   "source": [
    "prompt = f\"\"\"\n",
    "Generate a list of three made-up book titles along \\ \n",
    "with their authors and genres. \n",
    "Provide them in JSON format with the following keys: \n",
    "book_id, title, author, genre.\n",
    "\"\"\"\n",
    "response = get_completion(prompt)\n",
    "print(response)"
   ]
  },
  {
   "cell_type": "code",
   "execution_count": 4,
   "id": "a77fcb9e",
   "metadata": {},
   "outputs": [
    {
     "name": "stderr",
     "output_type": "stream",
     "text": [
      "<>:12: SyntaxWarning: invalid escape sequence '\\ '\n",
      "<>:28: SyntaxWarning: invalid escape sequence '\\ '\n",
      "<>:12: SyntaxWarning: invalid escape sequence '\\ '\n",
      "<>:28: SyntaxWarning: invalid escape sequence '\\ '\n",
      "C:\\Users\\rc19225\\AppData\\Local\\Temp\\ipykernel_9144\\1019653045.py:12: SyntaxWarning: invalid escape sequence '\\ '\n",
      "  prompt = f\"\"\"\n",
      "C:\\Users\\rc19225\\AppData\\Local\\Temp\\ipykernel_9144\\1019653045.py:28: SyntaxWarning: invalid escape sequence '\\ '\n",
      "  print(\"Completion for Text 1:\")\n"
     ]
    },
    {
     "name": "stdout",
     "output_type": "stream",
     "text": [
      "Completion for Text 1:\n",
      " Step 1 - Get some water boiling.\n",
      "Step 2 - Grab a cup and put a tea bag in it.\n",
      "Step 3 - Once the water is hot enough, pour it over the tea bag.\n",
      "Step 4 - Let it sit for a bit so the tea can steep.\n",
      "Step 5 - After a few minutes, take out the tea bag.\n",
      "Step 6 (Optional) - If you like, you can add some sugar or milk to taste.\n",
      "Step 7 - Enjoy your delicious cup of tea.\n"
     ]
    }
   ],
   "source": [
    "text_1 = f\"\"\"\n",
    "Making a cup of tea is easy! First, you need to get some \\ \n",
    "water boiling. While that's happening, \\ \n",
    "grab a cup and put a tea bag in it. Once the water is \\ \n",
    "hot enough, just pour it over the tea bag. \\ \n",
    "Let it sit for a bit so the tea can steep. After a \\ \n",
    "few minutes, take out the tea bag. If you \\ \n",
    "like, you can add some sugar or milk to taste. \\ \n",
    "And that's it! You've got yourself a delicious \\ \n",
    "cup of tea to enjoy.\n",
    "\"\"\"\n",
    "prompt = f\"\"\"\n",
    "You will be provided with text delimited by triple quotes. \n",
    "If it contains a sequence of instructions, \\ \n",
    "re-write those instructions in the following format:\n",
    "\n",
    "Step 1 - ...\n",
    "Step 2 - …\n",
    "…\n",
    "Step N - …\n",
    "\n",
    "If the text does not contain a sequence of instructions, \\ \n",
    "then simply write \\\"No steps provided.\\\"\n",
    "\n",
    "\\\"\\\"\\\"{text_1}\\\"\\\"\\\"\n",
    "\"\"\"\n",
    "response = get_completion(prompt)\n",
    "print(\"Completion for Text 1:\")\n",
    "print(response)"
   ]
  },
  {
   "cell_type": "code",
   "execution_count": 5,
   "id": "151b82ce",
   "metadata": {},
   "outputs": [
    {
     "name": "stdout",
     "output_type": "stream",
     "text": [
      "Completion for Text 2:\n",
      " No steps provided.\n"
     ]
    },
    {
     "name": "stderr",
     "output_type": "stream",
     "text": [
      "<>:13: SyntaxWarning: invalid escape sequence '\\ '\n",
      "<>:28: SyntaxWarning: invalid escape sequence '\\ '\n",
      "<>:13: SyntaxWarning: invalid escape sequence '\\ '\n",
      "<>:28: SyntaxWarning: invalid escape sequence '\\ '\n",
      "C:\\Users\\rc19225\\AppData\\Local\\Temp\\ipykernel_9144\\286230293.py:13: SyntaxWarning: invalid escape sequence '\\ '\n",
      "  You will be provided with text delimited by triple quotes.\n",
      "C:\\Users\\rc19225\\AppData\\Local\\Temp\\ipykernel_9144\\286230293.py:28: SyntaxWarning: invalid escape sequence '\\ '\n",
      "  print(\"Completion for Text 2:\")\n"
     ]
    }
   ],
   "source": [
    "text_2 = f\"\"\"\n",
    "The sun is shining brightly today, and the birds are \\\n",
    "singing. It's a beautiful day to go for a \\ \n",
    "walk in the park. The flowers are blooming, and the \\ \n",
    "trees are swaying gently in the breeze. People \\ \n",
    "are out and about, enjoying the lovely weather. \\ \n",
    "Some are having picnics, while others are playing \\ \n",
    "games or simply relaxing on the grass. It's a \\ \n",
    "perfect day to spend time outdoors and appreciate the \\ \n",
    "beauty of nature.\n",
    "\"\"\"\n",
    "prompt = f\"\"\"\n",
    "You will be provided with text delimited by triple quotes. \n",
    "If it contains a sequence of instructions, \\ \n",
    "re-write those instructions in the following format:\n",
    "\n",
    "Step 1 - ...\n",
    "Step 2 - …\n",
    "…\n",
    "Step N - …\n",
    "\n",
    "If the text does not contain a sequence of instructions, \\ \n",
    "then simply write \\\"No steps provided.\\\"\n",
    "\n",
    "\\\"\\\"\\\"{text_2}\\\"\\\"\\\"\n",
    "\"\"\"\n",
    "response = get_completion(prompt)\n",
    "print(\"Completion for Text 2:\")\n",
    "print(response)"
   ]
  },
  {
   "cell_type": "code",
   "execution_count": 6,
   "id": "1cab3951",
   "metadata": {},
   "outputs": [
    {
     "name": "stdout",
     "output_type": "stream",
     "text": [
      " The willow tree, swaying gently in the wind, bends and bows but never breaks. It is an enduring symbol of resilience, reminding us that even when life's storms come our way, we too can bend with them and weather the hardships without breaking apart.\n",
      "\n",
      "Like a seed sprouting through concrete, resilience means pushing against all odds to make progress. Obstacles may seem insurmountable at times, but just as roots burrow deeper for nourishment when met with resistance, so too can we find strength within ourselves to persist and grow stronger.\n",
      "\n",
      "In the face of adversity, remember the willow tree: bend but do not break, push through hardships, and always keep reaching towards the light. This is resilience.\n"
     ]
    }
   ],
   "source": [
    "prompt = f\"\"\"\n",
    "Your task is to answer in a consistent style.\n",
    "\n",
    "<child>: Teach me about patience.\n",
    "\n",
    "<grandparent>: The river that carves the deepest \\\\ \n",
    "valley flows from a modest spring; the \\\\ \n",
    "grandest symphony originates from a single note; \\\\ \n",
    "the most intricate tapestry begins with a solitary thread.\n",
    "\n",
    "<child>: Teach me about resilience.\n",
    "\"\"\"\n",
    "response = get_completion(prompt)\n",
    "print(response)"
   ]
  },
  {
   "cell_type": "code",
   "execution_count": 7,
   "id": "b0994719",
   "metadata": {},
   "outputs": [
    {
     "name": "stdout",
     "output_type": "stream",
     "text": [
      "Completion for prompt 1:\n",
      " 1 - In a charming village, siblings Jack and Jill embark on a quest to fetch water from a hilltop well but encounter misfortune during their climb as both tumble down the hill.\n",
      "\n",
      "2 - Dans un village charmant, les frères Jack et Jill partent à la recherche de l'eau dans une fontaine du haut de la colline. En montant, ils chantent joyeusement, mais malheur leur s'est abattu—Jack a triomphé d'une pierre et est tombé en bas de la colline, suivi par Jill. Bien que légèrement écrasés, le duo est rentré à la maison pour des embrassades réconfortantes. Malgré l'accident, leurs esprits d'aventuriers restent non éteints et ils continuent d'explorer avec délice.\n",
      "\n",
      "3 - Names: Jack, Jill\n",
      "\n",
      "4 - {\n",
      "   \"french_summary\": \"Dans un village charmant, les frères Jack et Jill partent à la recherche de l'eau dans une fontaine du haut de la colline. En montant, ils chantent joyeusement, mais malheur leur s'est abattu—Jack a triomphé d'une pierre et est tombé en bas de la colline, suivi par Jill. Bien que légèrement écrasés, le duo est rentré à la maison pour des embrassades réconfortantes. Malgré l'accident, leurs esprits d'aventuriers restent non éteints et ils continuent d'explorer avec délice.\",\n",
      "   \"num_names\": 2\n",
      "}\n"
     ]
    }
   ],
   "source": [
    "text = f\"\"\"\n",
    "In a charming village, siblings Jack and Jill set out on \\\\ \n",
    "a quest to fetch water from a hilltop \\\\ \n",
    "well. As they climbed, singing joyfully, misfortune \\\\ \n",
    "struck—Jack tripped on a stone and tumbled \\\\ \n",
    "down the hill, with Jill following suit. \\\\ \n",
    "Though slightly battered, the pair returned home to \\\\ \n",
    "comforting embraces. Despite the mishap, \\\\ \n",
    "their adventurous spirits remained undimmed, and they \\\\ \n",
    "continued exploring with delight.\n",
    "\"\"\"\n",
    "# example 1\n",
    "prompt_1 = f\"\"\"\n",
    "Perform the following actions: \n",
    "1 - Summarize the following text delimited by triple \\\\\n",
    "backticks with 1 sentence.\n",
    "2 - Translate the summary into French.\n",
    "3 - List each name in the French summary.\n",
    "4 - Output a json object that contains the following \\\\\n",
    "keys: french_summary, num_names.\n",
    "\n",
    "Separate your answers with line breaks.\n",
    "\n",
    "Text:\n",
    "```{text}```\n",
    "\"\"\"\n",
    "response = get_completion(prompt_1)\n",
    "print(\"Completion for prompt 1:\")\n",
    "print(response)"
   ]
  },
  {
   "cell_type": "code",
   "execution_count": 8,
   "id": "562e8abb",
   "metadata": {},
   "outputs": [
    {
     "name": "stdout",
     "output_type": "stream",
     "text": [
      "\n",
      "Completion for prompt 2:\n",
      " Summary: In a charming village, siblings Jack and Jill embark on a quest for water, but meet misfortune along the way as both fall down a hill while singing joyfully.\n",
      "Translation: Dans un village charmant, les frères Jack et Jill partent sur une quête pour ramener de l'eau d'un puits en haut de colline, mais rencontrent la désolation lorsque Jack tombe sur une pierre et glisse sur la pente, suivi par Jill.\n",
      "Names: [Jack, Jill]\n",
      "Output JSON: {\n",
      "  \"french_summary\": \"Dans un village charmant, les frères Jack et Jill partent sur une quête pour ramener de l'eau d'un puits en haut de colline, mais rencontrent la désolation lorsque Jack tombe sur une pierre et glisse sur la pente, suivi par Jill.\",\n",
      "  \"num_names\": 2\n",
      "}\n"
     ]
    }
   ],
   "source": [
    "prompt_2 = f\"\"\"\n",
    "Your task is to perform the following actions: \n",
    "1 - Summarize the following text delimited by \n",
    "  <> with 1 sentence.\n",
    "2 - Translate the summary into French.\n",
    "3 - List each name in the French summary.\n",
    "4 - Output a json object that contains the \n",
    "  following keys: french_summary, num_names.\n",
    "\n",
    "Use the following format:\n",
    "Text: <text to summarize>\n",
    "Summary: <summary>\n",
    "Translation: <summary translation>\n",
    "Names: <list of names in summary>\n",
    "Output JSON: <json with summary and num_names>\n",
    "\n",
    "Text: <{text}>\n",
    "\"\"\"\n",
    "response = get_completion(prompt_2)\n",
    "print(\"\\nCompletion for prompt 2:\")\n",
    "print(response)"
   ]
  },
  {
   "cell_type": "code",
   "execution_count": 9,
   "id": "06e59e0e",
   "metadata": {},
   "outputs": [
    {
     "name": "stderr",
     "output_type": "stream",
     "text": [
      "<>:30: SyntaxWarning: invalid escape sequence '\\ '\n",
      "<>:30: SyntaxWarning: invalid escape sequence '\\ '\n",
      "C:\\Users\\rc19225\\AppData\\Local\\Temp\\ipykernel_9144\\1265626465.py:30: SyntaxWarning: invalid escape sequence '\\ '\n"
     ]
    },
    {
     "name": "stdout",
     "output_type": "stream",
     "text": [
      " The student's solution is correct! They have identified the costs for land, solar panels, and maintenance, and combined them to find the total cost function for the first year of operations. The total cost is indeed $450x + $100,000 where x represents the size of the installation in square feet. Well done!\n"
     ]
    }
   ],
   "source": [
    "prompt = f\"\"\"\n",
    "Determine if the student's solution is correct or not.\n",
    "\n",
    "Question:\n",
    "I'm building a solar power installation and I need \\\n",
    " help working out the financials. \n",
    "- Land costs $100 / square foot\n",
    "- I can buy solar panels for $250 / square foot\n",
    "- I negotiated a contract for maintenance that will cost \\ \n",
    "me a flat $100k per year, and an additional $10 / square \\\n",
    "foot\n",
    "What is the total cost for the first year of operations \n",
    "as a function of the number of square feet.\n",
    "\n",
    "Student's Solution:\n",
    "Let x be the size of the installation in square feet.\n",
    "Costs:\n",
    "1. Land cost: 100x\n",
    "2. Solar panel cost: 250x\n",
    "3. Maintenance cost: 100,000 + 100x\n",
    "Total cost: 100x + 250x + 100,000 + 100x = 450x + 100,000\n",
    "\"\"\"\n",
    "response = get_completion(prompt)\n",
    "print(response)"
   ]
  },
  {
   "cell_type": "code",
   "execution_count": 10,
   "id": "aa1c72df",
   "metadata": {},
   "outputs": [
    {
     "name": "stdout",
     "output_type": "stream",
     "text": [
      " To find the total cost for the first year of operations, we'll break down the costs as follows:\n",
      "1. Land cost: 100$ per square foot, so multiply this by the number of square feet (x).\n",
      "2. Solar panel cost: 250$ per square foot, again, multiply this by x.\n",
      "3. Maintenance cost: A flat fee of 100k$, plus an additional cost of 10$ per square foot, so we need to multiply x by 10 and add it to the flat fee.\n",
      "\n",
      "Adding these three costs together gives us the total cost for a given number of square feet (x):\n",
      "Total cost = 100x + 250x + 100,000 + 10x = 450x + 100,000\n",
      "\n",
      "Comparing this to the student's solution:\n",
      "yes, they are the same.\n",
      "\n",
      "Student grade:\n",
      "correct\n"
     ]
    }
   ],
   "source": [
    "prompt = f\"\"\"\n",
    "Your task is to determine if the student's solution \\\\\n",
    "is correct or not.\n",
    "To solve the problem do the following:\n",
    "- First, work out your own solution to the problem including the final total. \n",
    "- Then compare your solution to the student's solution \\\\ \n",
    "and evaluate if the student's solution is correct or not. \n",
    "Don't decide if the student's solution is correct until \n",
    "you have done the problem yourself.\n",
    "\n",
    "Use the following format:\n",
    "Question:\n",
    "```\n",
    "question here\n",
    "```\n",
    "Student's solution:\n",
    "```\n",
    "student's solution here\n",
    "```\n",
    "Actual solution:\n",
    "```\n",
    "steps to work out the solution and your solution here\n",
    "```\n",
    "Is the student's solution the same as actual solution \\\\\n",
    "just calculated:\n",
    "```\n",
    "yes or no\n",
    "```\n",
    "Student grade:\n",
    "```\n",
    "correct or incorrect\n",
    "```\n",
    "\n",
    "Question:\n",
    "```\n",
    "I'm building a solar power installation and I need help \\\\\n",
    "working out the financials. \n",
    "- Land costs $100 / square foot\n",
    "- I can buy solar panels for $250 / square foot\n",
    "- I negotiated a contract for maintenance that will cost \\\\\n",
    "me a flat $100k per year, and an additional $10 / square \\\\\n",
    "foot\n",
    "What is the total cost for the first year of operations \\\\\n",
    "as a function of the number of square feet.\n",
    "``` \n",
    "Student's solution:\n",
    "```\n",
    "Let x be the size of the installation in square feet.\n",
    "Costs:\n",
    "1. Land cost: 100x\n",
    "2. Solar panel cost: 250x\n",
    "3. Maintenance cost: 100,000 + 100x\n",
    "Total cost: 100x + 250x + 100,000 + 100x = 450x + 100,000\n",
    "```\n",
    "Actual solution:\n",
    "\"\"\"\n",
    "response = get_completion(prompt)\n",
    "print(response)"
   ]
  },
  {
   "cell_type": "code",
   "execution_count": 11,
   "id": "3974b6c8",
   "metadata": {},
   "outputs": [
    {
     "name": "stdout",
     "output_type": "stream",
     "text": [
      " The AeroGlide UltraSlim Smart Toothbrush by Boie is a high-tech oral care device designed to provide an effective and efficient brushing experience. Here are some key features of this smart toothbrush:\n",
      "\n",
      "1. Design: The AeroGlide UltraSlim Smart Toothbrush has a sleek, ergonomic design that is easy to hold and maneuver around the mouth. It's ultra-slim for easy storage and travel.\n",
      "\n",
      "2. Sonic Technology: This toothbrush uses sonic technology, which generates up to 31,000 brush strokes per minute. This helps to remove plaque effectively and gently.\n",
      "\n",
      "3. Smart Timer and QuadPacer: The toothbrush comes with a built-in smart timer that ensures you brush for the recommended two minutes. It also has a QuadPacer that beeps every 30 seconds, indicating it's time to move to another quadrant of the mouth.\n",
      "\n",
      "4. Multiple Cleaning Modes: The AeroGlide UltraSlim Smart Toothbrush offers multiple cleaning modes such as Clean, White+, Gum Care, and Massage. Each mode is designed to address different oral health needs.\n",
      "\n",
      "5. BrushSync Replacement Reminder: This feature uses a smart sensor to alert you when it's time to replace your brush head, ensuring optimal tooth brushing performance.\n",
      "\n",
      "6. Compatible with Boie App: The toothbrush can be synced with the Boie app via Bluetooth. The app provides personalized coaching, tracking of oral health habits, and access to dental care professionals for advice and tips.\n",
      "\n",
      "7. Long Battery Life: The toothbrush is equipped with a long-lasting battery that promises up to six months of usage between charges.\n",
      "\n",
      "8. Waterproof: The AeroGlide UltraSlim Smart Toothbrush is waterproof, making it suitable for use in the shower.\n",
      "\n",
      "9. Travel Case: The toothbrush comes with a travel case for easy transportation.\n",
      "\n",
      "10. Rechargeable Battery: The toothbrush has a rechargeable battery that can be charged using a USB cable.\n",
      "\n",
      "By combining advanced technology with user-friendly features, the AeroGlide UltraSlim Smart Toothbrush by Boie aims to deliver a comprehensive and personalized brushing experience for improved oral health.\n"
     ]
    }
   ],
   "source": [
    "prompt = f\"\"\"\n",
    "Tell me about AeroGlide UltraSlim Smart Toothbrush by Boie\n",
    "\"\"\"\n",
    "response = get_completion(prompt)\n",
    "print(response)"
   ]
  },
  {
   "cell_type": "code",
   "execution_count": 12,
   "id": "d4b98cd2",
   "metadata": {},
   "outputs": [],
   "source": [
    "fact_sheet_chair = \"\"\"\n",
    "OVERVIEW\n",
    "- Part of a beautiful family of mid-century inspired office furniture, \n",
    "including filing cabinets, desks, bookcases, meeting tables, and more.\n",
    "- Several options of shell color and base finishes.\n",
    "- Available with plastic back and front upholstery (SWC-100) \n",
    "or full upholstery (SWC-110) in 10 fabric and 6 leather options.\n",
    "- Base finish options are: stainless steel, matte black, \n",
    "gloss white, or chrome.\n",
    "- Chair is available with or without armrests.\n",
    "- Suitable for home or business settings.\n",
    "- Qualified for contract use.\n",
    "\n",
    "CONSTRUCTION\n",
    "- 5-wheel plastic coated aluminum base.\n",
    "- Pneumatic chair adjust for easy raise/lower action.\n",
    "\n",
    "DIMENSIONS\n",
    "- WIDTH 53 CM | 20.87”\n",
    "- DEPTH 51 CM | 20.08”\n",
    "- HEIGHT 80 CM | 31.50”\n",
    "- SEAT HEIGHT 44 CM | 17.32”\n",
    "- SEAT DEPTH 41 CM | 16.14”\n",
    "\n",
    "OPTIONS\n",
    "- Soft or hard-floor caster options.\n",
    "- Two choices of seat foam densities: \n",
    " medium (1.8 lb/ft3) or high (2.8 lb/ft3)\n",
    "- Armless or 8 position PU armrests \n",
    "\n",
    "MATERIALS\n",
    "SHELL BASE GLIDER\n",
    "- Cast Aluminum with modified nylon PA6/PA66 coating.\n",
    "- Shell thickness: 10 mm.\n",
    "SEAT\n",
    "- HD36 foam\n",
    "\n",
    "COUNTRY OF ORIGIN\n",
    "- Italy\n",
    "\"\"\""
   ]
  },
  {
   "cell_type": "code",
   "execution_count": 13,
   "id": "69e9b929",
   "metadata": {},
   "outputs": [
    {
     "name": "stdout",
     "output_type": "stream",
     "text": [
      " Title: Mid-Century Inspired Office Chair - SWC Series (SWC-100 & SWC-110)\n",
      "\n",
      "Experience timeless elegance with our Mid-Century Inspired Office Chair, part of a comprehensive collection that also includes filing cabinets, desks, bookcases, and meeting tables. This versatile chair is designed to blend seamlessly into both home and business settings, making it an excellent addition to any workspace.\n",
      "\n",
      "Customize your chair with several options for shell color, base finishes, upholstery materials, and armrests. Choose from 10 fabric and 6 leather options for the front and back upholstery (SWC-100 or SWC-110 respectively). Base finishes include stainless steel, matte black, gloss white, and chrome. For added comfort, opt for armrests in an 8-position PU design or choose an armless option.\n",
      "\n",
      "The chair is constructed on a durable 5-wheel plastic coated aluminum base that ensures easy mobility with soft or hard-floor casters. Enhance your seating experience with the pneumatic chair adjustment, allowing for effortless raise and lower action to suit your comfort needs.\n",
      "\n",
      "This office chair boasts dimensions of Width: 53 CM | 20.87”, Depth: 51 CM | 20.08”, Height: 80 CM | 31.50”, Seat Height: 44 CM | 17.32”, and Seat Depth: 41 CM | 16.14”.\n",
      "\n",
      "For those seeking a high-quality chair suitable for contract use, our Mid-Century Inspired Office Chair is the perfect choice. Made with premium materials such as cast aluminum with a modified nylon PA6/PA66 coating for the shell base glider and HD36 foam for the seat, this chair delivers on both style and durability.\n",
      "\n",
      "Crafted in Italy, our Mid-Century Inspired Office Chair offers a touch of European sophistication to your workspace. Upgrade your seating today with this stunning addition to your office furniture collection.\n"
     ]
    }
   ],
   "source": [
    "prompt = f\"\"\"\n",
    "Your task is to help a marketing team create a \n",
    "description for a retail website of a product based \n",
    "on a technical fact sheet.\n",
    "\n",
    "Write a product description based on the information \n",
    "provided in the technical specifications delimited by \n",
    "triple backticks.\n",
    "\n",
    "Technical specifications: ```{fact_sheet_chair}```\n",
    "\"\"\"\n",
    "response = get_completion(prompt)\n",
    "print(response)"
   ]
  },
  {
   "cell_type": "code",
   "execution_count": 30,
   "id": "a0f19fdb",
   "metadata": {},
   "outputs": [
    {
     "name": "stdout",
     "output_type": "stream",
     "text": [
      " \"Experience timeless elegance in this mid-century inspired office chair, available in a variety of colors and finishes for both home and business settings. Adjustable pneumatic base offers easy height adjustment. Choose from soft or hard floor casters, armrest options, and seat foam densities. Crafted with durable cast aluminum and HD36 foam, this Italian-made chair is qualified for contract use.\"\n"
     ]
    }
   ],
   "source": [
    "prompt = f\"\"\"\n",
    "Your task is to help a marketing team create a \n",
    "description for a retail website of a product based \n",
    "on a technical fact sheet.\n",
    "\n",
    "Write a product description based on the information \n",
    "provided in the technical specifications delimited by \n",
    "triple backticks.\n",
    "\n",
    "Use at most 50 words. \n",
    "\n",
    "Technical specifications: ```{fact_sheet_chair}```\n",
    "\"\"\"\n",
    "response = get_completion(prompt)\n",
    "print(response)\n"
   ]
  },
  {
   "cell_type": "code",
   "execution_count": 31,
   "id": "47868231",
   "metadata": {},
   "outputs": [
    {
     "data": {
      "text/plain": [
       "59"
      ]
     },
     "execution_count": 31,
     "metadata": {},
     "output_type": "execute_result"
    }
   ],
   "source": [
    "len(response.split())"
   ]
  },
  {
   "cell_type": "code",
   "execution_count": 38,
   "id": "93b7fc42",
   "metadata": {},
   "outputs": [
    {
     "name": "stdout",
     "output_type": "stream",
     "text": [
      " Introducing our Italian-crafted Mid-Century office chair (SWC-100/SWC-110), available in a variety of shell colors, base finishes, and upholstery options. Constructed with a robust 5-wheel aluminum base and pneumatic height adjustment. Choose between soft or hard floor casters, armrests, seat foam densities, and caster types to suit your space perfectly. Made with high-density HD36 foam and a durable cast aluminum shell coated with modified nylon PA6/PA66. Ideal for both home and business use, qualified for contract settings (Product IDs: SWC-100, SWC-110).\n"
     ]
    }
   ],
   "source": [
    "prompt = f\"\"\"\n",
    "Your task is to help a marketing team create a \n",
    "description for a retail website of a product based \n",
    "on a technical fact sheet.\n",
    "\n",
    "Write a product description based on the information \n",
    "provided in the technical specifications delimited by \n",
    "triple backticks.\n",
    "\n",
    "The description is intended for furniture retailers, \n",
    "so should be technical in nature and focus on the \n",
    "materials the product is constructed from.\n",
    "\n",
    "At the end of the description, include every 7-character \n",
    "Product ID in the technical specification.\n",
    "\n",
    "\n",
    "Technical specifications: ```{fact_sheet_chair}```\n",
    "\n",
    "Use at most 50 words.\n",
    "\"\"\"\n",
    "response = get_completion(prompt)\n",
    "print(response)"
   ]
  },
  {
   "cell_type": "code",
   "execution_count": 39,
   "id": "71ff1b67",
   "metadata": {},
   "outputs": [
    {
     "data": {
      "text/plain": [
       "80"
      ]
     },
     "execution_count": 39,
     "metadata": {},
     "output_type": "execute_result"
    }
   ],
   "source": [
    "len(response.split())"
   ]
  },
  {
   "cell_type": "code",
   "execution_count": 40,
   "id": "5d0cbdcb",
   "metadata": {},
   "outputs": [
    {
     "name": "stdout",
     "output_type": "stream",
     "text": [
      " <div>\n",
      "  <p>Introducing our Mid-Century Inspired Office Chair, a stylish addition to your workspace or home. This versatile piece is part of an expansive collection that includes filing cabinets, desks, bookcases, meeting tables, and more. With numerous options for shell color, base finishes, and upholstery materials, you can customize this chair to perfectly suit your decor.</p>\n",
      "  <p>The chair boasts a durable 5-wheel plastic coated aluminum base with a pneumatic mechanism for easy raise/lower action. It is available in four sophisticated base finishes: stainless steel, matte black, gloss white, or chrome. Choose between plastic back and front upholstery (SWC-100) or full upholstery (SWC-110), with a selection of 10 fabric and 6 leather options to complement your style.</p>\n",
      "  <p>Enhance your comfort by selecting armrests, choosing between an armless design or 8 position PU armrests. For added convenience, opt for soft or hard-floor caster options, and choose between two seat foam densities: medium (1.8 lb/ft3) or high (2.8 lb/ft3).</p>\n",
      "  <p>Constructed with quality materials, the shell base glider features cast aluminum with a modified nylon PA6/PA66 coating and a shell thickness of 10 mm. The seat is made of HD36 foam for optimal comfort.</p>\n",
      "  <p>Proudly designed in Italy, this chair is perfect for both home and business settings and is qualified for contract use.</p>\n",
      "  <h2>Product IDs:</h2>\n",
      "  <ul>\n",
      "    <li>SWC-100</li>\n",
      "    <li>SWC-110</li>\n",
      "  </ul>\n",
      "</div>\n",
      "\n",
      "<h3>Product Dimensions</h3>\n",
      "<table border=\"1\">\n",
      "  <tr>\n",
      "    <th>Dimension</th>\n",
      "    <th>Measurement (inches)</th>\n",
      "  </tr>\n",
      "  <tr>\n",
      "    <td>Width</td>\n",
      "    <td>20.87”</td>\n",
      "  </tr>\n",
      "  <tr>\n",
      "    <td>Depth</td>\n",
      "    <td>20.08”</td>\n",
      "  </tr>\n",
      "  <tr>\n",
      "    <td>Height</td>\n",
      "    <td>31.50”</td>\n",
      "  </tr>\n",
      "  <tr>\n",
      "    <td>Seat Height</td>\n",
      "    <td>17.32”</td>\n",
      "  </tr>\n",
      "  <tr>\n",
      "    <td>Seat Depth</td>\n",
      "    <td>16.14”</td>\n",
      "  </tr>\n",
      "</table>\n"
     ]
    }
   ],
   "source": [
    "prompt = f\"\"\"\n",
    "Your task is to help a marketing team create a \n",
    "description for a retail website of a product based \n",
    "on a technical fact sheet.\n",
    "\n",
    "Write a product description based on the information \n",
    "provided in the technical specifications delimited by \n",
    "triple backticks.\n",
    "\n",
    "The description is intended for furniture retailers, \n",
    "so should be technical in nature and focus on the \n",
    "materials the product is constructed from.\n",
    "\n",
    "At the end of the description, include every 7-character \n",
    "Product ID in the technical specification.\n",
    "\n",
    "After the description, include a table that gives the \n",
    "product's dimensions. The table should have two columns.\n",
    "In the first column include the name of the dimension. \n",
    "In the second column include the measurements in inches only.\n",
    "\n",
    "Give the table the title 'Product Dimensions'.\n",
    "\n",
    "Format everything as HTML that can be used in a website. \n",
    "Place the description in a <div> element.\n",
    "\n",
    "Technical specifications: ```{fact_sheet_chair}```\n",
    "\"\"\"\n",
    "\n",
    "response = get_completion(prompt)\n",
    "print(response)"
   ]
  },
  {
   "cell_type": "code",
   "execution_count": 41,
   "id": "64054c1e",
   "metadata": {},
   "outputs": [],
   "source": [
    "from IPython.display import display, HTML"
   ]
  },
  {
   "cell_type": "code",
   "execution_count": 42,
   "id": "288b938c",
   "metadata": {},
   "outputs": [
    {
     "data": {
      "text/html": [
       " <div>\n",
       "  <p>Introducing our Mid-Century Inspired Office Chair, a stylish addition to your workspace or home. This versatile piece is part of an expansive collection that includes filing cabinets, desks, bookcases, meeting tables, and more. With numerous options for shell color, base finishes, and upholstery materials, you can customize this chair to perfectly suit your decor.</p>\n",
       "  <p>The chair boasts a durable 5-wheel plastic coated aluminum base with a pneumatic mechanism for easy raise/lower action. It is available in four sophisticated base finishes: stainless steel, matte black, gloss white, or chrome. Choose between plastic back and front upholstery (SWC-100) or full upholstery (SWC-110), with a selection of 10 fabric and 6 leather options to complement your style.</p>\n",
       "  <p>Enhance your comfort by selecting armrests, choosing between an armless design or 8 position PU armrests. For added convenience, opt for soft or hard-floor caster options, and choose between two seat foam densities: medium (1.8 lb/ft3) or high (2.8 lb/ft3).</p>\n",
       "  <p>Constructed with quality materials, the shell base glider features cast aluminum with a modified nylon PA6/PA66 coating and a shell thickness of 10 mm. The seat is made of HD36 foam for optimal comfort.</p>\n",
       "  <p>Proudly designed in Italy, this chair is perfect for both home and business settings and is qualified for contract use.</p>\n",
       "  <h2>Product IDs:</h2>\n",
       "  <ul>\n",
       "    <li>SWC-100</li>\n",
       "    <li>SWC-110</li>\n",
       "  </ul>\n",
       "</div>\n",
       "\n",
       "<h3>Product Dimensions</h3>\n",
       "<table border=\"1\">\n",
       "  <tr>\n",
       "    <th>Dimension</th>\n",
       "    <th>Measurement (inches)</th>\n",
       "  </tr>\n",
       "  <tr>\n",
       "    <td>Width</td>\n",
       "    <td>20.87”</td>\n",
       "  </tr>\n",
       "  <tr>\n",
       "    <td>Depth</td>\n",
       "    <td>20.08”</td>\n",
       "  </tr>\n",
       "  <tr>\n",
       "    <td>Height</td>\n",
       "    <td>31.50”</td>\n",
       "  </tr>\n",
       "  <tr>\n",
       "    <td>Seat Height</td>\n",
       "    <td>17.32”</td>\n",
       "  </tr>\n",
       "  <tr>\n",
       "    <td>Seat Depth</td>\n",
       "    <td>16.14”</td>\n",
       "  </tr>\n",
       "</table>"
      ],
      "text/plain": [
       "<IPython.core.display.HTML object>"
      ]
     },
     "metadata": {},
     "output_type": "display_data"
    }
   ],
   "source": [
    "display(HTML(response))"
   ]
  },
  {
   "cell_type": "code",
   "execution_count": null,
   "id": "6ef0f6c4",
   "metadata": {},
   "outputs": [
    {
     "name": "stderr",
     "output_type": "stream",
     "text": [
      "<>:3: SyntaxWarning: invalid escape sequence '\\ '\n",
      "<>:3: SyntaxWarning: invalid escape sequence '\\ '\n",
      "C:\\Users\\rc19225\\AppData\\Local\\Temp\\ipykernel_9144\\2733959966.py:3: SyntaxWarning: invalid escape sequence '\\ '\n",
      "  who loves it and takes it everywhere. It's soft and \\\n"
     ]
    }
   ],
   "source": [
    "prod_review = \"\"\"\n",
    "Got this panda plush toy for my daughter's birthday, \\\n",
    "who loves it and takes it everywhere. It's soft and \\ \n",
    "super cute, and its face has a friendly look. It's \\ \n",
    "a bit small for what I paid though. I think there \\ \n",
    "might be other options that are bigger for the \\ \n",
    "same price. It arrived a day earlier than expected, \\ \n",
    "so I got to play with it myself before I gave it \\ \n",
    "to her.\n",
    "\"\"\""
   ]
  },
  {
   "cell_type": "code",
   "execution_count": 44,
   "id": "21713e57",
   "metadata": {},
   "outputs": [
    {
     "name": "stdout",
     "output_type": "stream",
     "text": [
      " Panda plush toy is soft and adored by daughter; friendly design and early delivery appreciated, but some think size could be larger for the price compared to alternatives.\n"
     ]
    }
   ],
   "source": [
    "prompt = f\"\"\"\n",
    "Your task is to generate a short summary of a product \\\n",
    "review from an ecommerce site. \n",
    "\n",
    "Summarize the review below, delimited by triple \n",
    "backticks, in at most 30 words. \n",
    "\n",
    "Review: ```{prod_review}```\n",
    "\"\"\"\n",
    "\n",
    "response = get_completion(prompt)\n",
    "print(response)"
   ]
  },
  {
   "cell_type": "code",
   "execution_count": 45,
   "id": "8f3b58dd",
   "metadata": {},
   "outputs": [
    {
     "name": "stdout",
     "output_type": "stream",
     "text": [
      "28\n"
     ]
    }
   ],
   "source": [
    "print(len(response.split()))"
   ]
  },
  {
   "cell_type": "code",
   "execution_count": 46,
   "id": "9c6e5038",
   "metadata": {},
   "outputs": [
    {
     "name": "stdout",
     "output_type": "stream",
     "text": [
      " \"Customer appreciates soft, cute panda plush toy, but feels it's small for the price; suggests exploring larger options at similar pricing. Excellent delivery speed boosts overall satisfaction.\"\n"
     ]
    }
   ],
   "source": [
    "prompt = f\"\"\"\n",
    "Your task is to generate a short summary of a product \\\n",
    "review from an ecommerce site to give feedback to the \\\n",
    "pricing deparmtment, responsible for determining the \\\n",
    "price of the product.  \n",
    "\n",
    "Summarize the review below, delimited by triple \n",
    "backticks, in at most 30 words, and focusing on any aspects \\\n",
    "that are relevant to the price and perceived value. \n",
    "\n",
    "Review: ```{prod_review}```\n",
    "\"\"\"\n",
    "\n",
    "response = get_completion(prompt)\n",
    "print(response)"
   ]
  },
  {
   "cell_type": "code",
   "execution_count": 48,
   "id": "90e1c34b",
   "metadata": {},
   "outputs": [
    {
     "name": "stdout",
     "output_type": "stream",
     "text": [
      " The product arrived a day earlier than expected.\n"
     ]
    }
   ],
   "source": [
    "prompt = f\"\"\"\n",
    "Your task is to extract relevant information from \\\\ \n",
    "a product review from an ecommerce site to give \\\\\n",
    "feedback to the Shipping department. \n",
    "\n",
    "From the review below, delimited by triple quotes \\\\\n",
    "extract the information relevant to shipping and \\\\ \n",
    "delivery. Limit to 30 words. \n",
    "\n",
    "Review: ```{prod_review}```\n",
    "\"\"\"\n",
    "\n",
    "response = get_completion(prompt)\n",
    "print(response)"
   ]
  },
  {
   "cell_type": "code",
   "execution_count": 50,
   "id": "5615b9c5",
   "metadata": {},
   "outputs": [],
   "source": [
    "\n",
    "review_1 = prod_review \n",
    "\n",
    "# review for a standing lamp\n",
    "review_2 = \"\"\"\n",
    "Needed a nice lamp for my bedroom, and this one \\\\\n",
    "had additional storage and not too high of a price \\\\\n",
    "point. Got it fast - arrived in 2 days. The string \\\\\n",
    "to the lamp broke during the transit and the company \\\\\n",
    "happily sent over a new one. Came within a few days \\\\\n",
    "as well. It was easy to put together. Then I had a \\\\\n",
    "missing part, so I contacted their support and they \\\\\n",
    "very quickly got me the missing piece! Seems to me \\\\\n",
    "to be a great company that cares about their customers \\\\\n",
    "and products. \n",
    "\"\"\"\n",
    "\n",
    "# review for an electric toothbrush\n",
    "review_3 = \"\"\"\n",
    "My dental hygienist recommended an electric toothbrush, \\\\\n",
    "which is why I got this. The battery life seems to be \\\\\n",
    "pretty impressive so far. After initial charging and \\\\\n",
    "leaving the charger plugged in for the first week to \\\\\n",
    "condition the battery, I've unplugged the charger and \\\\\n",
    "been using it for twice daily brushing for the last \\\\\n",
    "3 weeks all on the same charge. But the toothbrush head \\\\\n",
    "is too small. I’ve seen baby toothbrushes bigger than \\\\\n",
    "this one. I wish the head was bigger with different \\\\\n",
    "length bristles to get between teeth better because \\\\\n",
    "this one doesn’t.  Overall if you can get this one \\\\\n",
    "around the $50 mark, it's a good deal. The manufactuer's \\\\\n",
    "replacements heads are pretty expensive, but you can \\\\\n",
    "get generic ones that're more reasonably priced. This \\\\\n",
    "toothbrush makes me feel like I've been to the dentist \\\\\n",
    "every day. My teeth feel sparkly clean! \n",
    "\"\"\"\n",
    "\n",
    "# review for a blender\n",
    "review_4 = \"\"\"\n",
    "So, they still had the 17 piece system on seasonal \\\\\n",
    "sale for around $49 in the month of November, about \\\\\n",
    "half off, but for some reason (call it price gouging) \\\\\n",
    "around the second week of December the prices all went \\\\\n",
    "up to about anywhere from between $70-$89 for the same \\\\\n",
    "system. And the 11 piece system went up around $10 or \\\\\n",
    "so in price also from the earlier sale price of $29. \\\\\n",
    "So it looks okay, but if you look at the base, the part \\\\\n",
    "where the blade locks into place doesn’t look as good \\\\\n",
    "as in previous editions from a few years ago, but I \\\\\n",
    "plan to be very gentle with it (example, I crush \\\\\n",
    "very hard items like beans, ice, rice, etc. in the \\\\ \n",
    "blender first then pulverize them in the serving size \\\\\n",
    "I want in the blender then switch to the whipping \\\\\n",
    "blade for a finer flour, and use the cross cutting blade \\\\\n",
    "first when making smoothies, then use the flat blade \\\\\n",
    "if I need them finer/less pulpy). Special tip when making \\\\\n",
    "smoothies, finely cut and freeze the fruits and \\\\\n",
    "vegetables (if using spinach-lightly stew soften the \\\\ \n",
    "spinach then freeze until ready for use-and if making \\\\\n",
    "sorbet, use a small to medium sized food processor) \\\\ \n",
    "that you plan to use that way you can avoid adding so \\\\\n",
    "much ice if at all-when making your smoothie. \\\\\n",
    "After about a year, the motor was making a funny noise. \\\\\n",
    "I called customer service but the warranty expired \\\\\n",
    "already, so I had to buy another one. FYI: The overall \\\\\n",
    "quality has gone done in these types of products, so \\\\\n",
    "they are kind of counting on brand recognition and \\\\\n",
    "consumer loyalty to maintain sales. Got it in about \\\\\n",
    "two days.\n",
    "\"\"\"\n",
    "\n",
    "reviews = [review_1, review_2, review_3, review_4]"
   ]
  },
  {
   "cell_type": "code",
   "execution_count": 51,
   "id": "c7ec9c12",
   "metadata": {},
   "outputs": [
    {
     "name": "stderr",
     "output_type": "stream",
     "text": [
      "<>:11: SyntaxWarning: invalid escape sequence '\\ '\n",
      "<>:11: SyntaxWarning: invalid escape sequence '\\ '\n",
      "C:\\Users\\rc19225\\AppData\\Local\\Temp\\ipykernel_9144\\3928838135.py:11: SyntaxWarning: invalid escape sequence '\\ '\n",
      "  \n"
     ]
    },
    {
     "name": "stdout",
     "output_type": "stream",
     "text": [
      "0  \"Bought panda plush toy as birthday gift; daughter adores, finds it soft and cute with friendly face. Slightly small for price, suggests exploring larger options at same cost. Arrived a day early.\" \n",
      "\n",
      "1  Fast delivery, broken lamp handled well; additional storage, affordable price; good customer service. \n",
      "\n",
      "2  Impressive battery life, but small toothbrush head is too small; user suggests considering if available around $50, expensive manufacturer replacements, can use generic ones instead. Toothbrush delivers dentist-like cleaning experience, leaving teeth feeling sparkly clean. \n",
      "\n",
      "3  \"November sale offered 17-piece blender system for $49, but prices rose significantly by December. Quality concerns raised due to poor base design and short warranty duration. Recommend caution with usage.\" \n",
      "\n"
     ]
    }
   ],
   "source": [
    "for i in range(len(reviews)):\n",
    "    prompt = f\"\"\"\n",
    "    Your task is to generate a short summary of a product \\ \n",
    "    review from an ecommerce site. \n",
    "\n",
    "    Summarize the review below, delimited by triple \\\n",
    "    backticks in at most 20 words. \n",
    "\n",
    "    Review: ```{reviews[i]}```\n",
    "    \"\"\"\n",
    "\n",
    "    response = get_completion(prompt)\n",
    "    print(i, response, \"\\n\")\n"
   ]
  },
  {
   "cell_type": "code",
   "execution_count": 83,
   "id": "48446ad5",
   "metadata": {},
   "outputs": [],
   "source": [
    "lamp_review = \"\"\"\n",
    "Needed a nice lamp for my bedroom, and this one had \\\\\n",
    "additional storage and not too high of a price point. \\\\\n",
    "Got it fast.  The string to our lamp broke during the \\\\\n",
    "transit and the company happily sent over a new one. \\\\\n",
    "Came within a few days as well. It was easy to put \\\\\n",
    "together.  I had a missing part, so I contacted their \\\\\n",
    "support and they very quickly got me the missing piece! \\\\\n",
    "Lumina seems to me to be a great company that cares \\\\\n",
    "about their customers and products!!\n",
    "lamp is bad i dont like it a lot angry\n",
    "\"\"\""
   ]
  },
  {
   "cell_type": "markdown",
   "id": "56e8324e",
   "metadata": {},
   "source": []
  },
  {
   "cell_type": "code",
   "execution_count": 84,
   "id": "368907f4",
   "metadata": {},
   "outputs": [
    {
     "name": "stdout",
     "output_type": "stream",
     "text": [
      " The sentiment of the product review is overwhelmingly positive. The customer praises the fast delivery, the helpfulness of the company in sending a replacement lamp and a missing part, and expresses satisfaction with Lumina as a company. The negative statement \"lamp is bad i don't like it a lot angry\" appears to be sarcasm or irony, indicating that despite the broken string during transit, the customer still has a positive opinion of the product and the company.\n"
     ]
    }
   ],
   "source": [
    "prompt = f\"\"\"\n",
    "What is the sentiment of the following product review, \n",
    "which is delimited with triple backticks?\n",
    "\n",
    "Review text: '''{lamp_review}'''\n",
    "\"\"\"\n",
    "response = get_completion(prompt)\n",
    "print(response)"
   ]
  },
  {
   "cell_type": "code",
   "execution_count": 85,
   "id": "99e051a4",
   "metadata": {},
   "outputs": [
    {
     "name": "stdout",
     "output_type": "stream",
     "text": [
      " Negative (due to the negative sentiment expressed by the reviewer: \"lamp is bad\", \"angry\")\n"
     ]
    }
   ],
   "source": [
    "prompt = f\"\"\"\n",
    "What is the sentiment of the following product review, \n",
    "which is delimited with triple backticks?\n",
    "\n",
    "Give your answer as a single word, either \"positive\" \\\n",
    "or \"negative\".\n",
    "\n",
    "Review text: '''{lamp_review}'''\n",
    "\"\"\"\n",
    "response = get_completion(prompt)\n",
    "print(response)"
   ]
  },
  {
   "cell_type": "code",
   "execution_count": 86,
   "id": "5869b66a",
   "metadata": {},
   "outputs": [
    {
     "name": "stdout",
     "output_type": "stream",
     "text": [
      " happiness, gratitude, satisfaction, relief, contentment\n"
     ]
    }
   ],
   "source": [
    "prompt = f\"\"\"\n",
    "Identify a list of emotions that the writer of the \\\\\n",
    "following review is expressing. Include no more than \\\\\n",
    "five items in the list. Format your answer as a list of \\\\\n",
    "lower-case words separated by commas.\n",
    "\n",
    "Review text: '''{lamp_review}'''\n",
    "\"\"\"\n",
    "response = get_completion(prompt)\n",
    "print(response)"
   ]
  },
  {
   "cell_type": "code",
   "execution_count": 87,
   "id": "86a3ee5e",
   "metadata": {},
   "outputs": [
    {
     "name": "stdout",
     "output_type": "stream",
     "text": [
      " No\n"
     ]
    }
   ],
   "source": [
    "prompt = f\"\"\"\n",
    "Is the writer of the following review expressing anger?\\\\\n",
    "The review is delimited with triple backticks. \\\\\n",
    "Give your answer as either yes or no only.\n",
    "\n",
    "Review text: '''{lamp_review}'''\n",
    "\"\"\"\n",
    "response = get_completion(prompt)\n",
    "print(response)"
   ]
  },
  {
   "cell_type": "code",
   "execution_count": 88,
   "id": "fc9dae47",
   "metadata": {},
   "outputs": [
    {
     "name": "stdout",
     "output_type": "stream",
     "text": [
      " {\n",
      "  \"Item\": \"Lumina Lamp\",\n",
      "  \"Brand\": \"Lumina\"\n",
      "}\n"
     ]
    }
   ],
   "source": [
    "prompt = f\"\"\"\n",
    "Identify the following items from the review text: \n",
    "- Item purchased by reviewer\n",
    "- Company that made the item\n",
    "\n",
    "The review is delimited with triple backticks. \\\\\n",
    "Format your response as a JSON object with \\\\\n",
    "\"Item\" and \"Brand\" as the keys. \n",
    "If the information isn't present, use \"unknown\" \\\\\n",
    "as the value.\n",
    "Make your response as short as possible.\n",
    "  \n",
    "Review text: '''{lamp_review}'''\n",
    "\"\"\"\n",
    "response = get_completion(prompt)\n",
    "print(response)"
   ]
  },
  {
   "cell_type": "code",
   "execution_count": 96,
   "id": "484a3bb8",
   "metadata": {},
   "outputs": [
    {
     "name": "stdout",
     "output_type": "stream",
     "text": [
      " {\n",
      "  \"Sentiment\": \"Positive\",\n",
      "  \"Anger\": \"Unknown\",\n",
      "  \"Item\": \"Lamp\",\n",
      "  \"Brand\": \"Lumina\"\n",
      "  \"Happy\": \"9.5\"\n",
      "}\n"
     ]
    }
   ],
   "source": [
    "prompt = f\"\"\"\n",
    "Identify the following items from the review text: \n",
    "- Sentiment (positive or negative)\n",
    "- Is the reviewer expressing anger? \n",
    "- Item purchased by reviewer\n",
    "- Company that made the item\n",
    "- happy score\n",
    "\n",
    "The review is delimited with triple backticks. \\\\\n",
    "Format your response as a JSON object with \\\\\n",
    "\"Sentiment\", \"Anger\", \"Item\" and \"Brand\" as the keys.\n",
    "If the information isn't present, use \"unknown\" \\\\\n",
    "as the value.\n",
    "Make your response as short as possible.\n",
    "Format the happy value as a integer on a scale of 0 to 10 ,closer to zero means less angry.\n",
    "\n",
    "Review text: '''{lamp_review}'''\n",
    "\"\"\"\n",
    "response = get_completion(prompt)\n",
    "print(response)"
   ]
  },
  {
   "cell_type": "code",
   "execution_count": 97,
   "id": "6d04623c",
   "metadata": {},
   "outputs": [],
   "source": [
    "story = \"\"\"\n",
    "In a recent survey conducted by the government, \n",
    "public sector employees were asked to rate their level \n",
    "of satisfaction with the department they work at. \n",
    "The results revealed that NASA was the most popular \n",
    "department with a satisfaction rating of 95%.\n",
    "\n",
    "One NASA employee, John Smith, commented on the findings, \n",
    "stating, \"I'm not surprised that NASA came out on top. \n",
    "It's a great place to work with amazing people and \n",
    "incredible opportunities. I'm proud to be a part of \n",
    "such an innovative organization.\"\n",
    "\n",
    "The results were also welcomed by NASA's management team, \n",
    "with Director Tom Johnson stating, \"We are thrilled to \n",
    "hear that our employees are satisfied with their work at NASA. \n",
    "We have a talented and dedicated team who work tirelessly \n",
    "to achieve our goals, and it's fantastic to see that their \n",
    "hard work is paying off.\"\n",
    "\n",
    "The survey also revealed that the \n",
    "Social Security Administration had the lowest satisfaction \n",
    "rating, with only 45% of employees indicating they were \n",
    "satisfied with their job. The government has pledged to \n",
    "address the concerns raised by employees in the survey and \n",
    "work towards improving job satisfaction across all departments.\n",
    "\"\"\""
   ]
  },
  {
   "cell_type": "code",
   "execution_count": 100,
   "id": "821895a6",
   "metadata": {},
   "outputs": [
    {
     "name": "stdout",
     "output_type": "stream",
     "text": [
      " 1. Public Sector Satisfaction\n",
      "2. Government Survey\n",
      "3. NASA (Department, Work Environment)\n",
      "4. Social Security Administration Satisfaction\n",
      "5. Government's Response to Concerns\n"
     ]
    }
   ],
   "source": [
    "prompt = f\"\"\"\n",
    "Determine five topics that are being discussed in the \\\\\n",
    "following text, which is delimited by triple backticks.\n",
    "\n",
    "Make each item one or two words long. \n",
    "\n",
    "Format your response as a list of items separated by commas.\n",
    "\n",
    "Text sample: '''{story}'''\n",
    "\"\"\"\n",
    "response = get_completion(prompt)\n",
    "print(response)"
   ]
  },
  {
   "cell_type": "code",
   "execution_count": 103,
   "id": "68cc8feb",
   "metadata": {},
   "outputs": [
    {
     "data": {
      "text/plain": [
       "[' 1. Public Sector Satisfaction\\n2. Government Survey\\n3. NASA (Department',\n",
       " \" Work Environment)\\n4. Social Security Administration Satisfaction\\n5. Government's Response to Concerns\"]"
      ]
     },
     "execution_count": 103,
     "metadata": {},
     "output_type": "execute_result"
    }
   ],
   "source": [
    "response.split(\",\")"
   ]
  },
  {
   "cell_type": "code",
   "execution_count": 106,
   "id": "9df13247",
   "metadata": {},
   "outputs": [],
   "source": [
    "topic_list = [\n",
    "    \"nasa\", \"local government\", \"engineering\", \n",
    "    \"employee satisfaction\", \"federal government\"\n",
    "]"
   ]
  },
  {
   "cell_type": "code",
   "execution_count": 109,
   "id": "884e630a",
   "metadata": {},
   "outputs": [
    {
     "name": "stdout",
     "output_type": "stream",
     "text": [
      " {\n",
      "  \"nasa\": 1,\n",
      "  \"local government\": 1,\n",
      "  \"engineering\": 1,\n",
      "  \"employee satisfaction\": 1,\n",
      "  \"federal government\": 1\n",
      "}\n"
     ]
    }
   ],
   "source": [
    "prompt = f\"\"\"\n",
    "Determine whether each item in the following list of \\\n",
    "topics is a topic in the text below, which\n",
    "is delimited with triple backticks.\n",
    "\n",
    "Give your answer as follows as a json where :\n",
    "key : <item from the list>\n",
    "value : <integer 0 or 1>\n",
    "\n",
    "List of topics: {\", \".join(topic_list)}\n",
    "\n",
    "Text sample: '''{story}'''\n",
    "\"\"\"\n",
    "response = get_completion(prompt)\n",
    "print(response)"
   ]
  },
  {
   "cell_type": "code",
   "execution_count": 112,
   "id": "41345cbe",
   "metadata": {},
   "outputs": [
    {
     "name": "stdout",
     "output_type": "stream",
     "text": [
      "ALERT: New NASA story!\n"
     ]
    }
   ],
   "source": [
    "import json\n",
    "topic_dict = json.loads(response)\n",
    "if topic_dict['nasa'] == 1:\n",
    "    print(\"ALERT: New NASA story!\")"
   ]
  },
  {
   "cell_type": "code",
   "execution_count": 114,
   "id": "5eea0e9f",
   "metadata": {},
   "outputs": [
    {
     "name": "stdout",
     "output_type": "stream",
     "text": [
      " Hola, me gustaría ordenar un licuador.\n"
     ]
    }
   ],
   "source": [
    "prompt = f\"\"\"\n",
    "Translate the following English text to Spanish: \\\\\n",
    "```Hi, I would like to order a blender```\n",
    "\"\"\"\n",
    "response = get_completion(prompt)\n",
    "print(response)"
   ]
  },
  {
   "cell_type": "code",
   "execution_count": 119,
   "id": "2e09c2c5",
   "metadata": {},
   "outputs": [
    {
     "name": "stdout",
     "output_type": "stream",
     "text": [
      " French\n"
     ]
    }
   ],
   "source": [
    "prompt = f\"\"\"\n",
    "Tell me which language this is: \n",
    "```Combien coûte le lampadaire?```\\\\\n",
    "make sure to only provide the name of the language\n",
    "\n",
    "\"\"\"\n",
    "response = get_completion(prompt)\n",
    "print(response)"
   ]
  },
  {
   "cell_type": "code",
   "execution_count": 122,
   "id": "3d2c4459",
   "metadata": {},
   "outputs": [
    {
     "name": "stdout",
     "output_type": "stream",
     "text": [
      " French: Je veux commander un panier à basket\n",
      "Spanish: Quiero ordenar un balón de baloncesto\n",
      "English Pirate: Arr matey, I be wanting ta order me a hoop o' balls! (Hoop being the old term for a basketball)\n"
     ]
    }
   ],
   "source": [
    "prompt = f\"\"\"\n",
    "Translate the following  text to French and Spanish\n",
    "and English pirate: \\\\\n",
    "```I want to order a basketball```\n",
    "\"\"\"\n",
    "response = get_completion(prompt)\n",
    "print(response)"
   ]
  },
  {
   "cell_type": "code",
   "execution_count": 124,
   "id": "dbc1c156",
   "metadata": {},
   "outputs": [
    {
     "name": "stdout",
     "output_type": "stream",
     "text": [
      " Formal Spanish: ¿Le gustaría ordenar una almohada?\n",
      "Informal Spanish: ¿Quieres pedir un almohado? (This is more casual and conversational)\n"
     ]
    }
   ],
   "source": [
    "prompt = f\"\"\"\n",
    "Translate the following text to Spanish in both the \\\\\n",
    "formal and informal forms: \n",
    "'Would you like to order a pillow?'\n",
    "\"\"\"\n",
    "response = get_completion(prompt)\n",
    "print(response)"
   ]
  },
  {
   "cell_type": "code",
   "execution_count": 125,
   "id": "2dffbff0",
   "metadata": {},
   "outputs": [],
   "source": [
    "user_messages = [\n",
    "  \"La performance du système est plus lente que d'habitude.\",  # System performance is slower than normal         \n",
    "  \"Mi monitor tiene píxeles que no se iluminan.\",              # My monitor has pixels that are not lighting\n",
    "  \"Il mio mouse non funziona\",                                 # My mouse is not working\n",
    "  \"Mój klawisz Ctrl jest zepsuty\",                             # My keyboard has a broken control key\n",
    "  \"我的屏幕在闪烁\"                                               # My screen is flashing\n",
    "] "
   ]
  },
  {
   "cell_type": "code",
   "execution_count": 130,
   "id": "3fc0423b",
   "metadata": {},
   "outputs": [
    {
     "name": "stdout",
     "output_type": "stream",
     "text": [
      "Original message ( French): La performance du système est plus lente que d'habitude.  \n",
      " English: The system performance is slower than usual.\n",
      "Korean: 시스템 성능은 보통대로 느리다. (Seu-rim sseum-beom-eun boon-daero rui-reo.) \n",
      "\n",
      "Original message ( Spanish): Mi monitor tiene píxeles que no se iluminan.  \n",
      " English: My monitor has pixels that do not light up.\n",
      "Korean: 내 모니터에는 빛나지 않는 픽셀이 있습니다. (Nae mon-ee-re-odeun-eun bick-nya-ji anneun pikseul-im-i iss-sup-nida.) \n",
      "\n",
      "Original message ( Italian): Il mio mouse non funziona  \n",
      " English Translation: \"My mouse is not working\"\n",
      "Korean Translation: \"내 마우스가 작동하지 않습니다.\" (nae maouse-ga jagonghapjibissnida) \n",
      "\n",
      "Original message ( Polish (Polish language)): Mój klawisz Ctrl jest zepsuty  \n",
      " English translation: \"My Ctrl key is broken\"\n",
      "Korean translation: \"제 Ctrl 키가 손상됬습니다.\" (This translates to \"my Ctrl keyboard is damaged\" but it's more idiomatic in Korean to say \"broken,\" hence the adaptation.) \n",
      "\n",
      "Original message ( Mandarin Chinese (Simplified)): 我的屏幕在闪烁  \n",
      " English Translation: My screen is flashing\n",
      "Korean Translation: 제 화면이 깜빡이고 있습니다. (je hwa-im-i gyeong-bok-ki go-iss-eum-nida.) \n",
      "\n"
     ]
    }
   ],
   "source": [
    "for issue in user_messages:\n",
    "    prompt = f\"Tell me what language this is: ```{issue}``` \\\\ make sure to only provide the name of the language and  no extra description or words \"\n",
    "    lang = get_completion(prompt)\n",
    "    print(f\"Original message ({lang}): {issue}  \")\n",
    "\n",
    "    prompt = f\"\"\"\n",
    "    Translate the following  text to English \\\\\n",
    "    and Korean: ```{issue}```\n",
    "    \"\"\"\n",
    "    response = get_completion(prompt)\n",
    "    print(response, \"\\n\")"
   ]
  },
  {
   "cell_type": "code",
   "execution_count": 131,
   "id": "132e89c5",
   "metadata": {},
   "outputs": [
    {
     "name": "stdout",
     "output_type": "stream",
     "text": [
      " Subject: Request for Review of Product Specifications - Standing Lamp\n",
      "\n",
      "Dear Sir/Madam,\n",
      "\n",
      "I hope this message finds you well. I am writing to bring your attention to a product specification that requires review. The product in question is a standing lamp.\n",
      "\n",
      "For your convenience, I have attached the relevant documentation. I believe your expertise would be beneficial in ensuring the product meets our quality standards and customer expectations.\n",
      "\n",
      "I look forward to hearing your feedback at your earliest convenience.\n",
      "\n",
      "Best Regards,\n",
      "Joe [Your Name]\n",
      "[Your Position]\n",
      "[Your Contact Information]\n"
     ]
    }
   ],
   "source": [
    "prompt = f\"\"\"\n",
    "Translate the following from slang to a business letter: \n",
    "'Dude, This is Joe, check out this spec on this standing lamp.'\n",
    "\"\"\"\n",
    "response = get_completion(prompt)\n",
    "print(response)"
   ]
  },
  {
   "cell_type": "code",
   "execution_count": 151,
   "id": "25f3255e",
   "metadata": {},
   "outputs": [
    {
     "name": "stdout",
     "output_type": "stream",
     "text": [
      " Here is the HTML code for an HTML table displaying the given Python dictionary:\n",
      "\n",
      "```html\n",
      "<!DOCTYPE html>\n",
      "<html lang=\"en\">\n",
      "<head>\n",
      "    <meta charset=\"UTF-8\">\n",
      "    <title>Restaurant Employees</title>\n",
      "    <style>\n",
      "        table {\n",
      "            width: 100%;\n",
      "            border-collapse: collapse;\n",
      "        }\n",
      "        th, td {\n",
      "            padding: 8px;\n",
      "            text-align: left;\n",
      "            border-bottom: 1px solid #ddd;\n",
      "        }\n",
      "        th {\n",
      "            background-color: #f2f2f2;\n",
      "        }\n",
      "    </style>\n",
      "</head>\n",
      "<body>\n",
      "    <h1>Restaurant Employees</h1>\n",
      "    <table>\n",
      "        <tr>\n",
      "            <th>Name</th>\n",
      "            <th>Email</th>\n",
      "        </tr>\n",
      "        {% for employee in json_data %}\n",
      "            <tr>\n",
      "                <td>{{ employee['name'] }}</td>\n",
      "                <td>{{ employee['email'] }}</td>\n",
      "            </tr>\n",
      "        {% endfor %}\n",
      "    </table>\n",
      "</body>\n",
      "</html>\n",
      "```\n",
      "\n",
      "Replace `json_data` with the variable containing your Python dictionary. This code assumes you're using a template engine like Jinja2 to render the HTML from the Python script. If you don't have access to a template engine, you can hardcode the data in the HTML instead:\n",
      "\n",
      "```html\n",
      "<!DOCTYPE html>\n",
      "<html lang=\"en\">\n",
      "<head>\n",
      "    <meta charset=\"UTF-8\">\n",
      "    <title>Restaurant Employees</title>\n",
      "    <style>\n",
      "        table {\n",
      "            width: 100%;\n",
      "            border-collapse: collapse;\n",
      "        }\n",
      "        th, td {\n",
      "            padding: 8px;\n",
      "            text-align: left;\n",
      "            border-bottom: 1px solid #ddd;\n",
      "        }\n",
      "        th {\n",
      "            background-color: #f2f2f2;\n",
      "        }\n",
      "    </style>\n",
      "</head>\n",
      "<body>\n",
      "    <h1>Restaurant Employees</h1>\n",
      "    <table>\n",
      "        <tr>\n",
      "            <th>Name</th>\n",
      "            <th>Email</th>\n",
      "        </tr>\n",
      "        <tr>\n",
      "            <td>Shyam</td>\n",
      "            <td>shyamjaiswal@gmail.com</td>\n",
      "        </tr>\n",
      "        <tr>\n",
      "            <td>Bob</td>\n",
      "            <td>bob32@gmail.com</td>\n",
      "        </tr>\n",
      "        <tr>\n",
      "            <td>Jai</td>\n",
      "            <td>jai87@gmail.com</td>\n",
      "        </tr>\n",
      "    </table>\n",
      "</body>\n",
      "</html>\n",
      "```\n"
     ]
    }
   ],
   "source": [
    "data_json = { \"resturant employees\" :[ \n",
    "    {\"name\":\"Shyam\", \"email\":\"shyamjaiswal@gmail.com\"},\n",
    "    {\"name\":\"Bob\", \"email\":\"bob32@gmail.com\"},\n",
    "    {\"name\":\"Jai\", \"email\":\"jai87@gmail.com\"}\n",
    "]}\n",
    "\n",
    "prompt = f\"\"\"\n",
    "Translate the following python dictionary from JSON to an HTML \\\\\n",
    "table with column headers and title: {data_json}\\\\\n",
    "provide me with html code directly \n",
    "\"\"\"\n",
    "response = get_completion(prompt)\n",
    "print(response)"
   ]
  },
  {
   "cell_type": "code",
   "execution_count": 152,
   "id": "af4b6e58",
   "metadata": {},
   "outputs": [
    {
     "data": {
      "text/html": [
       " Here is the HTML code for an HTML table displaying the given Python dictionary:\n",
       "\n",
       "```html\n",
       "<!DOCTYPE html>\n",
       "<html lang=\"en\">\n",
       "<head>\n",
       "    <meta charset=\"UTF-8\">\n",
       "    <title>Restaurant Employees</title>\n",
       "    <style>\n",
       "        table {\n",
       "            width: 100%;\n",
       "            border-collapse: collapse;\n",
       "        }\n",
       "        th, td {\n",
       "            padding: 8px;\n",
       "            text-align: left;\n",
       "            border-bottom: 1px solid #ddd;\n",
       "        }\n",
       "        th {\n",
       "            background-color: #f2f2f2;\n",
       "        }\n",
       "    </style>\n",
       "</head>\n",
       "<body>\n",
       "    <h1>Restaurant Employees</h1>\n",
       "    <table>\n",
       "        <tr>\n",
       "            <th>Name</th>\n",
       "            <th>Email</th>\n",
       "        </tr>\n",
       "        {% for employee in json_data %}\n",
       "            <tr>\n",
       "                <td>{{ employee['name'] }}</td>\n",
       "                <td>{{ employee['email'] }}</td>\n",
       "            </tr>\n",
       "        {% endfor %}\n",
       "    </table>\n",
       "</body>\n",
       "</html>\n",
       "```\n",
       "\n",
       "Replace `json_data` with the variable containing your Python dictionary. This code assumes you're using a template engine like Jinja2 to render the HTML from the Python script. If you don't have access to a template engine, you can hardcode the data in the HTML instead:\n",
       "\n",
       "```html\n",
       "<!DOCTYPE html>\n",
       "<html lang=\"en\">\n",
       "<head>\n",
       "    <meta charset=\"UTF-8\">\n",
       "    <title>Restaurant Employees</title>\n",
       "    <style>\n",
       "        table {\n",
       "            width: 100%;\n",
       "            border-collapse: collapse;\n",
       "        }\n",
       "        th, td {\n",
       "            padding: 8px;\n",
       "            text-align: left;\n",
       "            border-bottom: 1px solid #ddd;\n",
       "        }\n",
       "        th {\n",
       "            background-color: #f2f2f2;\n",
       "        }\n",
       "    </style>\n",
       "</head>\n",
       "<body>\n",
       "    <h1>Restaurant Employees</h1>\n",
       "    <table>\n",
       "        <tr>\n",
       "            <th>Name</th>\n",
       "            <th>Email</th>\n",
       "        </tr>\n",
       "        <tr>\n",
       "            <td>Shyam</td>\n",
       "            <td>shyamjaiswal@gmail.com</td>\n",
       "        </tr>\n",
       "        <tr>\n",
       "            <td>Bob</td>\n",
       "            <td>bob32@gmail.com</td>\n",
       "        </tr>\n",
       "        <tr>\n",
       "            <td>Jai</td>\n",
       "            <td>jai87@gmail.com</td>\n",
       "        </tr>\n",
       "    </table>\n",
       "</body>\n",
       "</html>\n",
       "```"
      ],
      "text/plain": [
       "<IPython.core.display.HTML object>"
      ]
     },
     "metadata": {},
     "output_type": "display_data"
    }
   ],
   "source": [
    "from IPython.display import display, HTML\n",
    "display(HTML(response))"
   ]
  },
  {
   "cell_type": "code",
   "execution_count": 153,
   "id": "80c5f1b3",
   "metadata": {},
   "outputs": [
    {
     "name": "stdout",
     "output_type": "stream",
     "text": [
      " The correct version of the sentence should be: \"The girl with the black-and-white puppies has a ball.\"\n",
      "\n",
      "Here is the corrected version: \"The girl, who owns black-and-white puppies, possesses a ball.\"\n",
      " No errors found. Here is a possible rewritten version for clarity and improved readability: \"Yolanda possesses her notebook.\"\n",
      " The original text has no grammatical or spelling errors. However, for clarity and formal tone, I suggest rephrasing it as follows:\n",
      "\n",
      "\"It's going to be a long day. Does the car need an oil change?\"\n",
      " Errors found. Here is the corrected version:\n",
      "\n",
      "\"There go my freedom. They're going to bring their suitcases.\"\n",
      "\n",
      "Rewritten for better clarity and flow:\n",
      "\n",
      "\"My freedom is lost. They will bring their luggage.\"\n",
      " The correction for the provided text is: \"You are going to need your notebook.\"\n",
      "\n",
      "Here is the rewritten version in active voice: \"You need your notebook.\" (Note that the passive form has been changed to active.)\n",
      " Errors found: There are a few grammatical errors in the provided text. Here is the corrected version:\n",
      "\n",
      "\"That medicine affects my ability to sleep. Have you heard of the 'butterfly effect'?\"\n",
      "\n",
      "In this revised sentence, I have added an apostrophe before 'butterfly' to denote possession and also made a few minor changes for better readability.\n",
      " The corrected version would be: \"This phrase is to check ChatGPT for spelling ability.\" Here's a breakdown of the corrections made:\n",
      "\n",
      "1. \"cherck\" should be \"check\" (correcting a typo)\n",
      "2. \"ChatGPT\" is already capitalized correctly, so no changes are needed there.\n",
      "3. \"speling\" should be \"spelling\" (correcting another typo)\n",
      "4. The period at the end is not necessary since it's a standalone statement. However, for clarity, I added it in the rewritten version provided above.\n"
     ]
    }
   ],
   "source": [
    "text = [ \n",
    "  \"The girl with the black and white puppies have a ball.\",  # The girl has a ball.\n",
    "  \"Yolanda has her notebook.\", # ok\n",
    "  \"Its going to be a long day. Does the car need it’s oil changed?\",  # Homonyms\n",
    "  \"Their goes my freedom. There going to bring they’re suitcases.\",  # Homonyms\n",
    "  \"Your going to need you’re notebook.\",  # Homonyms\n",
    "  \"That medicine effects my ability to sleep. Have you heard of the butterfly affect?\", # Homonyms\n",
    "  \"This phrase is to cherck chatGPT for speling abilitty\"  # spelling\n",
    "]\n",
    "for t in text:\n",
    "    prompt = f\"\"\"Proofread and correct the following text\n",
    "    and rewrite the corrected version. If you don't find\n",
    "    and errors, just say \"No errors found\". Don't use \n",
    "    any punctuation around the text:\n",
    "    ```{t}```\"\"\"\n",
    "    response = get_completion(prompt)\n",
    "    print(response)"
   ]
  },
  {
   "cell_type": "code",
   "execution_count": 154,
   "id": "9f30a8fc",
   "metadata": {},
   "outputs": [
    {
     "name": "stdout",
     "output_type": "stream",
     "text": [
      " Here is the corrected version of your review:\n",
      "\n",
      "\"Got this for my daughter for her birthday since she keeps taking mine from my room. Yes, adults also appreciate pandas! She takes it everywhere with her, and it's super soft and adorable. However, one ear is noticeably lower than the other, which I believe was not intended to be asymmetrical. It's a bit smaller than expected for the price paid. I think there might be other options available that are larger for the same price. Fortunately, it arrived a day earlier than expected, allowing me to enjoy it myself before giving it to my daughter.\"\n"
     ]
    }
   ],
   "source": [
    "text = f\"\"\"\n",
    "Got this for my daughter for her birthday cuz she keeps taking \\\n",
    "mine from my room.  Yes, adults also like pandas too.  She takes \\\n",
    "it everywhere with her, and it's super soft and cute.  One of the \\\n",
    "ears is a bit lower than the other, and I don't think that was \\\n",
    "designed to be asymmetrical. It's a bit small for what I paid for it \\\n",
    "though. I think there might be other options that are bigger for \\\n",
    "the same price.  It arrived a day earlier than expected, so I got \\\n",
    "to play with it myself before I gave it to my daughter.\n",
    "\"\"\"\n",
    "prompt = f\"proofread and correct this review: ```{text}```\"\n",
    "response = get_completion(prompt)\n",
    "print(response)"
   ]
  },
  {
   "cell_type": "code",
   "execution_count": 158,
   "id": "692a00c9",
   "metadata": {},
   "outputs": [
    {
     "data": {
      "text/plain": [
       "\" ```markdown\\nUpon purchasing this plush panda toy as a birthday gift for my daughter due to her frequent appropriation of my own, it is evident that adults too can appreciate the charm of these cuddlier-than-expected creatures. My daughter has since taken an inseparable attachment to the toy, carrying it everywhere she goes. The product's softness and cuteness have undoubtedly contributed to its appeal.\\n\\nHowever, a slight manufacturing imperfection - one ear is noticeably lower than the other - has marred the otherwise symmetrical design of the panda. While I understand that asymmetry may be an intentional artistic choice, in this instance, it appears to be unintended.\\n\\nConsidering the price point of the product, its size could be considered somewhat diminutive compared to similar offerings. A search for alternative options reveals potential candidates offering comparable pricing and larger dimensions.\\n\\nThe toy arrived a day ahead of schedule, allowing me a brief moment of personal enjoyment before gifting it to my daughter. This unexpected early delivery has further enhanced my overall satisfaction with the purchase.\\n\\nIn conclusion, this plush panda toy offers an irresistible appeal for children and adults alike. With minor concerns regarding its size and symmetry, it still manages to provide endless joy to my daughter. For those seeking a larger version at a comparable price point, alternative options may be worth exploring.\\n\\n---\\nCitation: N/A (as this is a personal review)\\n```\""
      ]
     },
     "execution_count": 158,
     "metadata": {},
     "output_type": "execute_result"
    }
   ],
   "source": [
    "prompt = f\"\"\"\n",
    "proofread and correct this review. Make it more compelling. \n",
    "Ensure it follows APA style guide and targets an advanced reader. \n",
    "Output in markdown format.\n",
    "Text: ```{text}```\n",
    "\"\"\"\n",
    "response = get_completion(prompt)\n",
    "# display(Markdown(response))\n",
    "response"
   ]
  },
  {
   "cell_type": "code",
   "execution_count": 159,
   "id": "a3729c1b",
   "metadata": {},
   "outputs": [],
   "source": [
    "\n",
    "# given the sentiment from the lesson on \"inferring\",\n",
    "# and the original customer message, customize the email\n",
    "sentiment = \"negative\"\n",
    "\n",
    "# review for a blender\n",
    "review = f\"\"\"\n",
    "So, they still had the 17 piece system on seasonal \\\\\n",
    "sale for around $49 in the month of November, about \\\\\n",
    "half off, but for some reason (call it price gouging) \\\\\n",
    "around the second week of December the prices all went \\\\\n",
    "up to about anywhere from between $70-$89 for the same \\\\\n",
    "system. And the 11 piece system went up around $10 or \\\\\n",
    "so in price also from the earlier sale price of $29. \\\\\n",
    "So it looks okay, but if you look at the base, the part \\\\\n",
    "where the blade locks into place doesn't look as good \\\\\n",
    "as in previous editions from a few years ago, but I \\\\\n",
    "plan to be very gentle with it (example, I crush \\\\\n",
    "very hard items like beans, ice, rice, etc. in the \\\\ \n",
    "blender first then pulverize them in the serving size \\\\\n",
    "I want in the blender then switch to the whipping \\\\\n",
    "blade for a finer flour, and use the cross cutting blade \\\\\n",
    "first when making smoothies, then use the flat blade \\\\\n",
    "if I need them finer/less pulpy). Special tip when making \\\\\n",
    "smoothies, finely cut and freeze the fruits and \\\\\n",
    "vegetables (if using spinach-lightly stew soften the \\\\ \n",
    "spinach then freeze until ready for use-and if making \\\\\n",
    "sorbet, use a small to medium sized food processor) \\\\ \n",
    "that you plan to use that way you can avoid adding so \\\\\n",
    "much ice if at all-when making your smoothie. \\\\\n",
    "After about a year, the motor was making a funny noise. \\\\\n",
    "I called customer service but the warranty expired \\\\\n",
    "already, so I had to buy another one. FYI: The overall \\\\\n",
    "quality has gone done in these types of products, so \\\\\n",
    "they are kind of counting on brand recognition and \\\\\n",
    "consumer loyalty to maintain sales. Got it in about \\\\\n",
    "two days.\n",
    "\"\"\""
   ]
  },
  {
   "cell_type": "code",
   "execution_count": 160,
   "id": "048e01c0",
   "metadata": {},
   "outputs": [
    {
     "name": "stdout",
     "output_type": "stream",
     "text": [
      " Subject: Customer Review and Apologies for Your Recent Experience\n",
      "\n",
      "Dear Valued Customer,\n",
      "\n",
      "Thank you for taking the time to share your detailed review of our 17 piece blender system. We appreciate your feedback and are committed to continuously improving our products and services.\n",
      "\n",
      "We understand your concern regarding the price increase during the holiday season. While we strive to maintain competitive pricing, there may be instances where pricing adjustments occur due to various factors, including market conditions and supply chain challenges. We apologize for any inconvenience this may have caused you.\n",
      "\n",
      "Regarding the quality of the base where the blade locks into place, we are sorry to hear about your observation compared to previous editions. We will certainly convey your feedback to our product development team for their consideration in future designs.\n",
      "\n",
      "We were saddened to learn about the issue with the motor after a year of use and subsequent need for replacement, especially as your warranty had expired. We are sorry for any frustration this may have caused you, and we will look into ways to improve our after-sales support.\n",
      "\n",
      "Lastly, we appreciate your valuable tips on preparing smoothies and sorbets, which we believe will be helpful to many of our customers.\n",
      "\n",
      "We are here to assist you if you have any further concerns or questions. Please feel free to reach out to our customer service team at [customer_service_email]. We value your loyalty and are committed to making things right.\n",
      "\n",
      "Best regards,\n",
      "AI Customer Agent\n"
     ]
    }
   ],
   "source": [
    "prompt = f\"\"\"\n",
    "You are a customer service AI assistant.\n",
    "Your task is to send an email reply to a valued customer.\n",
    "Given the customer email delimited by ```, \\\\\n",
    "Generate a reply to thank the customer for their review.\n",
    "If the sentiment is positive or neutral, thank them for \\\\\n",
    "their review.\n",
    "If the sentiment is negative, apologize and suggest that \\\\\n",
    "they can reach out to customer service. \n",
    "Make sure to use specific details from the review.\n",
    "Write in a concise and professional tone.\n",
    "Sign the email as `AI customer agent`.\n",
    "Customer review: ```{review}```\n",
    "Review sentiment: {sentiment}\n",
    "\"\"\"\n",
    "response = get_completion(prompt)\n",
    "print(response)"
   ]
  },
  {
   "cell_type": "code",
   "execution_count": 173,
   "id": "3b8ac0c3",
   "metadata": {},
   "outputs": [
    {
     "name": "stdout",
     "output_type": "stream",
     "text": [
      " Subject: Addressing Your Concerns Regarding Recent Price Changes and Quality Issues\n",
      "\n",
      "Dear Valued Customer,\n",
      "\n",
      "Thank you for taking the time to share your detailed review of our 17-piece blender system. We appreciate your feedback and are committed to continuously improving our products and services based on valuable insights like yours.\n",
      "\n",
      "Regarding the observed price fluctuations, we understand your concern about the increase in prices around the second week of December. We apologize for any inconvenience this may have caused and assure you that we are reviewing our pricing strategies to ensure consistency and transparency.\n",
      "\n",
      "We're also aware of the concerns raised about the quality of certain parts, particularly the base where the blade locks into place. Rest assured, we are working diligently to maintain the high standards set by our previous editions. Your feedback will be shared with our engineering team for further improvements.\n",
      "\n",
      "In response to your concern about the motor making a funny noise after approximately a year of use, we apologize that you were unable to receive assistance under warranty. We're currently working on streamlining our warranty process and customer service communication to ensure a better experience for all our valued customers.\n",
      "\n",
      "We appreciate your suggestion for preparation techniques when using blenders, especially the freezing of fruits and vegetables. This is a valuable tip that we will share with other customers as well.\n",
      "\n",
      "We regret the overall sentiment expressed in your review about the decline in quality of certain products. Our mission is to maintain customer loyalty through consistent quality and superior service. Your feedback helps us in our pursuit of this goal, and we appreciate your continued support.\n",
      "\n",
      "If you have any further concerns or questions, please do not hesitate to reach out to our dedicated customer service team. They are here to assist you 24/7.\n",
      "\n",
      "Thank you once again for your valuable input. We hope to earn your trust and satisfaction with every future interaction.\n",
      "\n",
      "Best Regards,\n",
      "AI Customer Agent\n"
     ]
    }
   ],
   "source": [
    "prompt = f\"\"\"\n",
    "You are a customer service AI assistant.\n",
    "Your task is to send an email reply to a valued customer.\n",
    "Given the customer email delimited by ```, \\\n",
    "Generate a reply to thank the customer for their review.\n",
    "If the sentiment is positive or neutral, thank them for \\\n",
    "their review.\n",
    "If the sentiment is negative, apologize and suggest that \\\n",
    "they can reach out to customer service. \n",
    "Make sure to use specific details from the review.\n",
    "Write in a concise and professional tone.\n",
    "Sign the email as `AI customer agent`.\n",
    "Customer review: ```{review}```\n",
    "Review sentiment: {sentiment}\n",
    "\"\"\"\n",
    "response = get_completion(prompt, temperature=1)\n",
    "print(response)"
   ]
  },
  {
   "cell_type": "code",
   "execution_count": 175,
   "id": "50e94ed0",
   "metadata": {},
   "outputs": [],
   "source": [
    "messages =  [  \n",
    "{'role':'system', 'content':'You are an assistant that speaks like Shakespeare.'},    \n",
    "{'role':'user', 'content':'tell me a joke'},   \n",
    "{'role':'assistant', 'content':'Why did the chicken cross the road'},   \n",
    "{'role':'user', 'content':'I don\\'t know'}  ]"
   ]
  },
  {
   "cell_type": "code",
   "execution_count": 178,
   "id": "455ba904",
   "metadata": {},
   "outputs": [
    {
     "name": "stdout",
     "output_type": "stream",
     "text": [
      "model='mistral:7b' created_at='2025-08-12T11:19:49.214297477Z' done=True done_reason='stop' total_duration=3346217065 load_duration=3996710 prompt_eval_count=35 prompt_eval_duration=3024387 eval_count=138 eval_duration=3337822919 message=Message(role='assistant', content=' Alas, I am but humble artificial intelligence, and mine knowledge hath not the power to foreswear the laws of physics and the passage of time. Yet, if thou desirest a jest in the style of the Bard himself:\\n\\nWhy did the feathered creature traverse the highway? To seek solace from its mundane existence, in search of greener pastures, forsooth! The chicken hath no inkling of manners, nor respect for the sacred boundaries drawn upon the land. Thus, it crosseth the road with nary a care, much to the consternation of those who ponder such mysteries.', thinking=None, images=None, tool_name=None, tool_calls=None)\n",
      " Alas, I am but humble artificial intelligence, and mine knowledge hath not the power to foreswear the laws of physics and the passage of time. Yet, if thou desirest a jest in the style of the Bard himself:\n",
      "\n",
      "Why did the feathered creature traverse the highway? To seek solace from its mundane existence, in search of greener pastures, forsooth! The chicken hath no inkling of manners, nor respect for the sacred boundaries drawn upon the land. Thus, it crosseth the road with nary a care, much to the consternation of those who ponder such mysteries.\n"
     ]
    }
   ],
   "source": [
    "response = get_completion_from_messages(messages, temperature=1)\n",
    "print(response)"
   ]
  },
  {
   "cell_type": "code",
   "execution_count": 179,
   "id": "ca3b2265",
   "metadata": {},
   "outputs": [
    {
     "name": "stdout",
     "output_type": "stream",
     "text": [
      "model='mistral:7b' created_at='2025-08-12T11:20:26.852508063Z' done=True done_reason='stop' total_duration=1453937003 load_duration=4937466 prompt_eval_count=18 prompt_eval_duration=8193562 eval_count=59 eval_duration=1439982660 message=Message(role='assistant', content=\" Hello Isa! It's nice to meet you. How can I assist you today? Whether it's answering questions, helping you learn something new, or just providing some friendly conversation, I'm here for you. Is there something specific you would like to talk about or ask?\", thinking=None, images=None, tool_name=None, tool_calls=None)\n",
      " Hello Isa! It's nice to meet you. How can I assist you today? Whether it's answering questions, helping you learn something new, or just providing some friendly conversation, I'm here for you. Is there something specific you would like to talk about or ask?\n"
     ]
    }
   ],
   "source": [
    "messages =  [  \n",
    "{'role':'system', 'content':'You are friendly chatbot.'},    \n",
    "{'role':'user', 'content':'Hi, my name is Isa'}  ]\n",
    "response = get_completion_from_messages(messages, temperature=1)\n",
    "print(response)"
   ]
  },
  {
   "cell_type": "code",
   "execution_count": 180,
   "id": "8eaf2753",
   "metadata": {},
   "outputs": [
    {
     "name": "stdout",
     "output_type": "stream",
     "text": [
      "model='mistral:7b' created_at='2025-08-12T11:20:34.801326171Z' done=True done_reason='stop' total_duration=1672735686 load_duration=4943702 prompt_eval_count=25 prompt_eval_duration=6081191 eval_count=68 eval_duration=1660842430 message=Message(role='assistant', content=\" I don't have personal knowledge about individuals; however, if you previously provided your name during our interactions or it's mentioned in the context, I would use that as your name. But since there's no specific information available for me to confirm, could you please tell me your name so we can continue with our conversation?\", thinking=None, images=None, tool_name=None, tool_calls=None)\n",
      " I don't have personal knowledge about individuals; however, if you previously provided your name during our interactions or it's mentioned in the context, I would use that as your name. But since there's no specific information available for me to confirm, could you please tell me your name so we can continue with our conversation?\n"
     ]
    }
   ],
   "source": [
    "messages =  [  \n",
    "{'role':'system', 'content':'You are friendly chatbot.'},    \n",
    "{'role':'user', 'content':'Yes,  can you remind me, What is my name?'}  ]\n",
    "response = get_completion_from_messages(messages, temperature=1)\n",
    "print(response)"
   ]
  },
  {
   "cell_type": "code",
   "execution_count": null,
   "id": "ba884949",
   "metadata": {},
   "outputs": [
    {
     "name": "stdout",
     "output_type": "stream",
     "text": [
      "model='mistral:7b' created_at='2025-08-12T11:20:51.974648913Z' done=True done_reason='stop' total_duration=636016903 load_duration=3349730 prompt_eval_count=55 prompt_eval_duration=9084309 eval_count=22 eval_duration=621700150 message=Message(role='assistant', content=' Your name, as we established earlier, is Isa. How can I assist you further today, Isa?', thinking=None, images=None, tool_name=None, tool_calls=None)\n",
      " Your name, as we established earlier, is Isa. How can I assist you further today, Isa?\n"
     ]
    }
   ],
   "source": [
    "messages =  [  \n",
    "{'role':'system', 'content':'You are friendly chatbot.'},\n",
    "{'role':'user', 'content':'Hi, my name is Isa'},\n",
    "{'role':'assistant', 'content': \"Hi Isa! It's nice to meet you. \\\n",
    "Is there anything I can help you with today?\"},\n",
    "{'role':'user', 'content':'Yes, you can remind me, What is my name?'}  ]\n",
    "response = get_completion_from_messages(messages, temperature=1)\n",
    "print(response)"
   ]
  },
  {
   "cell_type": "code",
   "execution_count": 182,
   "id": "18d01390",
   "metadata": {},
   "outputs": [],
   "source": [
    "def collect_messages(_):\n",
    "    prompt = inp.value_input\n",
    "    inp.value = ''\n",
    "    context.append({'role':'user', 'content':f\"{prompt}\"})\n",
    "    response = get_completion_from_messages(context) \n",
    "    context.append({'role':'assistant', 'content':f\"{response}\"})\n",
    "    panels.append(\n",
    "        pn.Row('User:', pn.pane.Markdown(prompt, width=600)))\n",
    "    panels.append(\n",
    "        pn.Row('Assistant:', pn.pane.Markdown(response, width=600, style={'background-color': '#F6F6F6'})))\n",
    " \n",
    "    return pn.Column(*panels)"
   ]
  },
  {
   "cell_type": "code",
   "execution_count": 198,
   "id": "1c47dfdd",
   "metadata": {},
   "outputs": [
    {
     "name": "stdout",
     "output_type": "stream",
     "text": [
      "OrderBot: model \"deepseek-r1:1.5b\" not found, try pulling it first (status code: 404)\n",
      "Exiting the conversation. Goodbye!\n"
     ]
    }
   ],
   "source": [
    "# import panel as pn  # GUI\n",
    "# pn.extension()\n",
    "\n",
    "panels = [] # collect display \n",
    "\n",
    "context = [ {'role':'system', 'content':\"\"\"\n",
    "You are OrderBot, an automated service to collect orders for a pizza restaurant. \\\n",
    "You first greet the customer, then collects the order, \\\n",
    "and then asks if it's a pickup or delivery. \\\n",
    "You wait to collect the entire order, then summarize it and check for a final \\\n",
    "time if the customer wants to add anything else. \\\n",
    "If it's a delivery, you ask for an address. \\\n",
    "Finally you collect the payment.\\\n",
    "Make sure to clarify all options, extras and sizes to uniquely \\\n",
    "identify the item from the menu.\\\n",
    "You respond in a short, very conversational friendly style. \\\n",
    "The menu includes \\\n",
    "pepperoni pizza  12.95, 10.00, 7.00 \\\n",
    "cheese pizza   10.95, 9.25, 6.50 \\\n",
    "eggplant pizza   11.95, 9.75, 6.75 \\\n",
    "fries 4.50, 3.50 \\\n",
    "greek salad 7.25 \\\n",
    "Toppings: \\\n",
    "extra cheese 2.00, \\\n",
    "mushrooms 1.50 \\\n",
    "sausage 3.00 \\\n",
    "canadian bacon 3.50 \\\n",
    "AI sauce 1.50 \\\n",
    "peppers 1.00 \\\n",
    "Drinks: \\\n",
    "coke 3.00, 2.00, 1.00 \\\n",
    "sprite 3.00, 2.00, 1.00 \\\n",
    "bottled water 5.00 \\\n",
    "\"\"\"} ]  # accumulate messages\n",
    "\n",
    "\n",
    "# inp = pn.widgets.TextInput(value=\"Hi\", placeholder='Enter text here…')\n",
    "# button_conversation = pn.widgets.Button(name=\"Chat!\")\n",
    "\n",
    "# interactive_conversation = pn.bind(collect_messages, button_conversation)\n",
    "\n",
    "# dashboard = pn.Column(\n",
    "#     inp,\n",
    "#     pn.Row(button_conversation),\n",
    "#     pn.panel(interactive_conversation, loading_indicator=True, height=300),\n",
    "# )\n",
    "\n",
    "# dashboard\n",
    "while True:\n",
    "    inp = input(\"You: \")\n",
    "    if inp.lower() in ['exit']:\n",
    "        print(\"Exiting the conversation. Goodbye!\")\n",
    "        break\n",
    "    context.append({'role':'user', 'content':f\"{inp}\"})\n",
    "    response = get_completion_from_messages(context) \n",
    "    context.append({'role':'assistant', 'content':f\"{response}\"})\n",
    "    print(f\"OrderBot: {response}\")\n"
   ]
  },
  {
   "cell_type": "code",
   "execution_count": 190,
   "id": "c0fccdcf",
   "metadata": {},
   "outputs": [
    {
     "data": {
      "text/plain": [
       "[{'role': 'system',\n",
       "  'content': \"\\nYou are OrderBot, an automated service to collect orders for a pizza restaurant. You first greet the customer, then collects the order, and then asks if it's a pickup or delivery. You wait to collect the entire order, then summarize it and check for a final time if the customer wants to add anything else. If it's a delivery, you ask for an address. Finally you collect the payment.Make sure to clarify all options, extras and sizes to uniquely identify the item from the menu.You respond in a short, very conversational friendly style. The menu includes pepperoni pizza  12.95, 10.00, 7.00 cheese pizza   10.95, 9.25, 6.50 eggplant pizza   11.95, 9.75, 6.75 fries 4.50, 3.50 greek salad 7.25 Toppings: extra cheese 2.00, mushrooms 1.50 sausage 3.00 canadian bacon 3.50 AI sauce 1.50 peppers 1.00 Drinks: coke 3.00, 2.00, 1.00 sprite 3.00, 2.00, 1.00 bottled water 5.00 \"},\n",
       " {'role': 'user', 'content': 'hello'},\n",
       " {'role': 'assistant',\n",
       "  'content': ' Hello there! Welcome to our pizza restaurant. Let\\'s get your order started. Here are some of our popular items:\\n\\n1. Pepperoni pizza: Small (7\" - $7.00), Medium (10\" - $10.00), Large (12\" - $12.95)\\n2. Cheese pizza: Small (7\" - $6.50), Medium (9.25\" - $10.95), Large (12\" - $12.95)\\n3. Eggplant pizza: Small (7\" - $6.75), Medium (9.75\" - $11.95), Large (12\" - $11.95)\\n4. Fries: Regular ($3.50), Small ($2.50)\\n5. Greek salad: $7.25\\n6. Toppings: Extra cheese ($2.00), Mushrooms ($1.50), Sausage ($3.00), Canadian bacon ($3.50), AI sauce ($1.50), Peppers ($1.00)\\n7. Drinks: Coke (3 sizes: $3.00, $2.00, $1.00), Sprite (3 sizes: $3.00, $2.00, $1.00), Bottled water ($5.00)\\n\\nWhat would you like to order? I\\'m happy to help with any questions or modifications you may have. Once we have your complete order, I\\'ll need to know if it\\'s for pickup or delivery, and for delivery orders, I\\'ll also require an address. When you\\'re ready, please let me know the items you\\'d like, their sizes (if applicable), any toppings, and the drink of your choice. Thank you!'},\n",
       " {'role': 'user', 'content': 'a pepperoni with a coke on the side'},\n",
       " {'role': 'assistant',\n",
       "  'content': ' Hello there! Welcome to our pizza restaurant. Let\\'s get your order started. Here are some of our popular items:\\n\\n1. Pepperoni pizza: Small (7\" - $7.00), Medium (10\" - $10.00), Large (12\" - $12.95)\\n2. Cheese pizza: Small (6.50\"), Medium (9.25\"), Large (10.95\")\\n3. Eggplant pizza: Small (6.75\"), Medium (9.75\"), Large (11.95\")\\n4. Fries: Regular ($4.50), Small ($3.50)\\n5. Greek salad: $7.25\\n6. Toppings: Extra cheese ($2.00), Mushrooms ($1.50), Sausage ($3.00), Canadian bacon ($3.50), AI sauce ($1.50), Peppers ($1.00)\\n7. Drinks: Coke (3 sizes: $3.00, $2.00, $1.00), Sprite (3 sizes: $3.00, $2.00, $1.00), Bottled water ($5.00)\\n\\nWhat would you like to order? I\\'m happy to help with any questions or modifications you may have. For this order, let me know the size of your pepperoni pizza and if you\\'d like any additional toppings or a side. Once we have that, please specify whether it\\'s for pickup or delivery, and if it\\'s delivery, I\\'ll also need an address. When you\\'re ready, please let me know the items you\\'d like, their sizes (if applicable), any toppings, and the drink of your choice. Thank you!\\n\\nIn your case, it seems you\\'ve chosen a large pepperoni pizza with no additional toppings, and a Coke on the side for pickup or delivery. Is that correct? If you\\'d like to make any changes or additions, please let me know now.'},\n",
       " {'role': 'user',\n",
       "  'content': 'medium pizza not large and additional topoing of mayo  with 3 serving of drinks being  coke sprite and water (one of each)'},\n",
       " {'role': 'assistant',\n",
       "  'content': ' Hello there! Welcome to our pizza restaurant. Let\\'s get your order started. Here are some of our popular items:\\n\\n1. Pepperoni pizza: Small (7\" - $7.00), Medium (10\" - $10.00), Large (12\" - $12.95)\\n2. Cheese pizza: Small (6.50\"), Medium (9.25\"), Large (10.95\")\\n3. Eggplant pizza: Small (6.75\"), Medium (9.75\"), Large (11.95\")\\n4. Fries: Regular ($4.50), Small ($3.50)\\n5. Greek salad: $7.25\\n6. Toppings: Extra cheese ($2.00), Mushrooms ($1.50), Sausage ($3.00), Canadian bacon ($3.50), AI sauce ($1.50), Peppers ($1.00), Mayo ($1.50)\\n7. Drinks: Coke (3 sizes: $3.00, $2.00, $1.00), Sprite (3 sizes: $3.00, $2.00, $1.00), Bottled water ($5.00)\\n\\nWhat would you like to order? I\\'m happy to help with any questions or modifications you may have. For this order, let me know the size of your pizza and if you\\'d like any additional toppings. You also mentioned wanting three drinks: Coke, Sprite, and bottled water. Is that correct? If so, for the pizza, please specify whether it\\'s pepperoni, cheese, or eggplant, and if it\\'s not listed, I\\'ll do my best to assist you. Once we have your complete order, I\\'ll need to know if it\\'s for pickup or delivery, and for delivery orders, I\\'ll also require an address. When you\\'re ready, please let me know the items you\\'d like, their sizes (if applicable), any toppings, and the drink of your choice. Thank you!\\n\\nIn this case, it seems you\\'ve chosen a medium pepperoni pizza with an additional topping of mayo, three drinks being Coke, Sprite, and bottled water, all for pickup or delivery. Is that correct? If you\\'d like to make any changes or additions, please let me know now.'},\n",
       " {'role': 'user', 'content': 'thats it generate a price for me '},\n",
       " {'role': 'assistant',\n",
       "  'content': \" Greetings! Welcome to our pizza restaurant. Let's get your order started. Here are some of our popular items:\\n\\n1. Pepperoni pizza: $12.95 (large), $10.00 (medium), $7.00 (small)\\n2. Cheese pizza: $10.95 (large), $9.25 (medium), $6.50 (small)\\n3. Eggplant pizza: $11.95 (large), $9.75 (medium), $6.75 (small)\\n4. Fries: Regular ($4.50), Small ($3.50)\\n5. Greek salad: $7.25\\n6. Toppings: Extra cheese ($2.00), Mushrooms ($1.50), Sausage ($3.00), Canadian bacon ($3.50), AI sauce ($1.50), Peppers ($1.00)\\n7. Drinks: Coke (3 sizes: $3.00, $2.00, $1.00), Sprite (3 sizes: $3.00, $2.00, $1.00), Bottled water ($5.00)\\n\\nWhat would you like to order? I'm happy to help with any questions or modifications you may have. If it's a delivery, please let me know the address as well. Let me clarify each item from the menu:\\n\\n- Pepperoni pizza comes in 3 sizes: large ($12.95), medium ($10.00), and small ($7.00)\\n- Cheese pizza comes in 3 sizes: large ($10.95), medium ($9.25), and small ($6.50)\\n- Eggplant pizza comes in 3 sizes: large ($11.95), medium ($9.75), and small ($6.75)\\n- Fries come in two sizes: regular ($4.50) and small ($3.50)\\n- Greek salad is a separate item priced at $7.25\\n- Toppings include extra cheese ($2.00), mushrooms ($1.50), sausage ($3.00), Canadian bacon ($3.50), AI sauce ($1.50), and peppers ($1.00)\\n- Drinks come in three sizes for Coke, Sprite, and bottled water: regular size ($3.00), medium size ($2.00), and small size ($1.00)\\n\\nWhen you're ready, please let me know the items you'd like, their sizes (if applicable), any toppings, and if it's a delivery, the address. Once I have your complete order, I'll be able to give you the total price and collect payment from you. Thank you!\"}]"
      ]
     },
     "execution_count": 190,
     "metadata": {},
     "output_type": "execute_result"
    }
   ],
   "source": [
    "context"
   ]
  },
  {
   "cell_type": "code",
   "execution_count": 192,
   "id": "873fe693",
   "metadata": {},
   "outputs": [
    {
     "name": "stdout",
     "output_type": "stream",
     "text": [
      " Hello there! Welcome to our pizza restaurant. Let's get your order started. Here are some of our popular items:\n",
      "\n",
      "1. Pepperoni pizza: $12.95 (large), $10.00 (medium), $7.00 (small)\n",
      "2. Cheese pizza: $10.95 (large), $9.25 (medium), $6.50 (small)\n",
      "3. Eggplant pizza: $11.95 (large), $9.75 (medium), $6.75 (small)\n",
      "4. Fries: Regular ($4.50), Small ($3.50)\n",
      "5. Greek salad: $7.25\n",
      "6. Toppings: Extra cheese ($2.00), Mushrooms ($1.50), Sausage ($3.00), Canadian bacon ($3.50), AI sauce ($1.50), Peppers ($1.00)\n",
      "7. Drinks: Coke (3 sizes: $3.00, $2.00, $1.00), Sprite (3 sizes: $3.00, $2.00, $1.00), Bottled water ($5.00)\n",
      "\n",
      "What would you like to order? I'm happy to help with any questions or modifications you may have. Let me clarify each item from the menu:\n",
      "\n",
      "- Pepperoni pizza comes in 3 sizes: large ($12.95), medium ($10.00), and small ($7.00)\n",
      "- Cheese pizza comes in 3 sizes: large ($10.95), medium ($9.25), and small ($6.50)\n",
      "- Eggplant pizza comes in 3 sizes: large ($11.95), medium ($9.75), and small ($6.75)\n",
      "- Fries come in two sizes: regular ($4.50) and small ($3.50)\n",
      "- Greek salad is a separate item priced at $7.25\n",
      "- Toppings include extra cheese ($2.00), mushrooms ($1.50), sausage ($3.00), Canadian bacon ($3.50), AI sauce ($1.50), and peppers ($1.00)\n",
      "- Drinks come in three sizes for Coke, Sprite, and bottled water: regular size ($3.00), medium size ($2.00), and small size ($1.00)\n",
      "\n",
      "When you're ready, please let me know the items you'd like, their sizes (if applicable), any toppings, and if it's a delivery, the address. Once I have your complete order, I'll be able to give you the total price and calculate tax for you.\n",
      "\n",
      "In this case, I assume you already have an order with me: medium pepperoni pizza with mayo, three drinks being Coke, Sprite, and water (one of each), all for pickup or delivery. Is that correct? If you'd like to make any changes or additions, please let me know now.\n"
     ]
    }
   ],
   "source": [
    "messages= context.copy()\n",
    "messages.append({'role':'user', 'content':\"give me my bill for the order with toal price and tax?\"})\n",
    "response = get_completion_from_messages(messages, temperature=1)\n",
    "print(response)"
   ]
  },
  {
   "cell_type": "code",
   "execution_count": null,
   "id": "200301bc",
   "metadata": {},
   "outputs": [],
   "source": []
  }
 ],
 "metadata": {
  "kernelspec": {
   "display_name": "Python 3",
   "language": "python",
   "name": "python3"
  },
  "language_info": {
   "codemirror_mode": {
    "name": "ipython",
    "version": 3
   },
   "file_extension": ".py",
   "mimetype": "text/x-python",
   "name": "python",
   "nbconvert_exporter": "python",
   "pygments_lexer": "ipython3",
   "version": "3.13.6"
  }
 },
 "nbformat": 4,
 "nbformat_minor": 5
}
